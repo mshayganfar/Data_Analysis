{
 "cells": [
  {
   "cell_type": "code",
   "execution_count": 1,
   "id": "4e541642-e318-4c08-8080-67f1a0e9ed29",
   "metadata": {},
   "outputs": [],
   "source": [
    "import pandas as pd"
   ]
  },
  {
   "cell_type": "code",
   "execution_count": 2,
   "id": "dcdf62bb-de03-43b2-93fd-d127d8af0a09",
   "metadata": {},
   "outputs": [],
   "source": [
    "orders = pd.read_csv('ecommerce_data/orders_dataset.csv')"
   ]
  },
  {
   "cell_type": "code",
   "execution_count": 3,
   "id": "f4a40597-704e-4ce1-92ba-ec11f7a3109a",
   "metadata": {},
   "outputs": [
    {
     "data": {
      "text/html": [
       "<div>\n",
       "<style scoped>\n",
       "    .dataframe tbody tr th:only-of-type {\n",
       "        vertical-align: middle;\n",
       "    }\n",
       "\n",
       "    .dataframe tbody tr th {\n",
       "        vertical-align: top;\n",
       "    }\n",
       "\n",
       "    .dataframe thead th {\n",
       "        text-align: right;\n",
       "    }\n",
       "</style>\n",
       "<table border=\"1\" class=\"dataframe\">\n",
       "  <thead>\n",
       "    <tr style=\"text-align: right;\">\n",
       "      <th></th>\n",
       "      <th>order_id</th>\n",
       "      <th>customer_id</th>\n",
       "      <th>order_status</th>\n",
       "      <th>order_purchase_timestamp</th>\n",
       "      <th>order_approved_at</th>\n",
       "      <th>order_delivered_carrier_date</th>\n",
       "      <th>order_delivered_customer_date</th>\n",
       "      <th>order_estimated_delivery_date</th>\n",
       "    </tr>\n",
       "  </thead>\n",
       "  <tbody>\n",
       "    <tr>\n",
       "      <th>0</th>\n",
       "      <td>ord_d25ca0e820f231046c70dd33</td>\n",
       "      <td>cust_d6ec876eea63d04ced06e168</td>\n",
       "      <td>canceled</td>\n",
       "      <td>2023-04-24 12:18:14.590086</td>\n",
       "      <td>2023-04-25 00:18:14.590086</td>\n",
       "      <td>NaN</td>\n",
       "      <td>NaN</td>\n",
       "      <td>2023-05-02 00:18:14.590086</td>\n",
       "    </tr>\n",
       "    <tr>\n",
       "      <th>1</th>\n",
       "      <td>ord_5fa044951857e02fd1347b47</td>\n",
       "      <td>cust_2d36e4b647be13c15df550af</td>\n",
       "      <td>delivered</td>\n",
       "      <td>2023-04-24 13:05:32.579655</td>\n",
       "      <td>2023-04-26 02:05:32.579655</td>\n",
       "      <td>2023-04-27 02:05:32.579655</td>\n",
       "      <td>2023-05-01 02:05:32.579655</td>\n",
       "      <td>2023-05-11 02:05:32.579655</td>\n",
       "    </tr>\n",
       "    <tr>\n",
       "      <th>2</th>\n",
       "      <td>ord_0a02a8a1d3d282380ed7d0cc</td>\n",
       "      <td>cust_157f0ea0316c546ac08dae30</td>\n",
       "      <td>delivered</td>\n",
       "      <td>2022-05-15 07:51:22.471390</td>\n",
       "      <td>2022-05-17 01:51:22.471390</td>\n",
       "      <td>2022-05-20 01:51:22.471390</td>\n",
       "      <td>2022-05-23 01:51:22.471390</td>\n",
       "      <td>2022-05-26 01:51:22.471390</td>\n",
       "    </tr>\n",
       "    <tr>\n",
       "      <th>3</th>\n",
       "      <td>ord_8a243422e3ad7ab97a1fe175</td>\n",
       "      <td>cust_bd21648bc4c95ae7aad6bda7</td>\n",
       "      <td>delivered</td>\n",
       "      <td>2022-04-18 15:02:44.122280</td>\n",
       "      <td>2022-04-19 16:02:44.122280</td>\n",
       "      <td>2022-04-22 16:02:44.122280</td>\n",
       "      <td>2022-04-30 16:02:44.122280</td>\n",
       "      <td>2022-04-26 16:02:44.122280</td>\n",
       "    </tr>\n",
       "    <tr>\n",
       "      <th>4</th>\n",
       "      <td>ord_43b53981d951f855231d09ec</td>\n",
       "      <td>cust_e670ce607e4f6aa14935ece0</td>\n",
       "      <td>delivered</td>\n",
       "      <td>2023-12-10 05:13:58.249202</td>\n",
       "      <td>2023-12-10 09:13:58.249202</td>\n",
       "      <td>2023-12-11 09:13:58.249202</td>\n",
       "      <td>2023-12-19 09:13:58.249202</td>\n",
       "      <td>2023-12-18 09:13:58.249202</td>\n",
       "    </tr>\n",
       "  </tbody>\n",
       "</table>\n",
       "</div>"
      ],
      "text/plain": [
       "                       order_id                    customer_id order_status  \\\n",
       "0  ord_d25ca0e820f231046c70dd33  cust_d6ec876eea63d04ced06e168     canceled   \n",
       "1  ord_5fa044951857e02fd1347b47  cust_2d36e4b647be13c15df550af    delivered   \n",
       "2  ord_0a02a8a1d3d282380ed7d0cc  cust_157f0ea0316c546ac08dae30    delivered   \n",
       "3  ord_8a243422e3ad7ab97a1fe175  cust_bd21648bc4c95ae7aad6bda7    delivered   \n",
       "4  ord_43b53981d951f855231d09ec  cust_e670ce607e4f6aa14935ece0    delivered   \n",
       "\n",
       "     order_purchase_timestamp           order_approved_at  \\\n",
       "0  2023-04-24 12:18:14.590086  2023-04-25 00:18:14.590086   \n",
       "1  2023-04-24 13:05:32.579655  2023-04-26 02:05:32.579655   \n",
       "2  2022-05-15 07:51:22.471390  2022-05-17 01:51:22.471390   \n",
       "3  2022-04-18 15:02:44.122280  2022-04-19 16:02:44.122280   \n",
       "4  2023-12-10 05:13:58.249202  2023-12-10 09:13:58.249202   \n",
       "\n",
       "  order_delivered_carrier_date order_delivered_customer_date  \\\n",
       "0                          NaN                           NaN   \n",
       "1   2023-04-27 02:05:32.579655    2023-05-01 02:05:32.579655   \n",
       "2   2022-05-20 01:51:22.471390    2022-05-23 01:51:22.471390   \n",
       "3   2022-04-22 16:02:44.122280    2022-04-30 16:02:44.122280   \n",
       "4   2023-12-11 09:13:58.249202    2023-12-19 09:13:58.249202   \n",
       "\n",
       "  order_estimated_delivery_date  \n",
       "0    2023-05-02 00:18:14.590086  \n",
       "1    2023-05-11 02:05:32.579655  \n",
       "2    2022-05-26 01:51:22.471390  \n",
       "3    2022-04-26 16:02:44.122280  \n",
       "4    2023-12-18 09:13:58.249202  "
      ]
     },
     "execution_count": 3,
     "metadata": {},
     "output_type": "execute_result"
    }
   ],
   "source": [
    "orders.head(5)"
   ]
  },
  {
   "cell_type": "code",
   "execution_count": 4,
   "id": "f85e9081-02dd-45a9-a282-5c127654fb26",
   "metadata": {},
   "outputs": [],
   "source": [
    "order_items = pd.read_csv('ecommerce_data/order_items_dataset.csv')"
   ]
  },
  {
   "cell_type": "code",
   "execution_count": 5,
   "id": "e64c4d9e-5518-470b-a8af-20488b7e7b5e",
   "metadata": {},
   "outputs": [
    {
     "data": {
      "text/html": [
       "<div>\n",
       "<style scoped>\n",
       "    .dataframe tbody tr th:only-of-type {\n",
       "        vertical-align: middle;\n",
       "    }\n",
       "\n",
       "    .dataframe tbody tr th {\n",
       "        vertical-align: top;\n",
       "    }\n",
       "\n",
       "    .dataframe thead th {\n",
       "        text-align: right;\n",
       "    }\n",
       "</style>\n",
       "<table border=\"1\" class=\"dataframe\">\n",
       "  <thead>\n",
       "    <tr style=\"text-align: right;\">\n",
       "      <th></th>\n",
       "      <th>order_id</th>\n",
       "      <th>order_item_id</th>\n",
       "      <th>product_id</th>\n",
       "      <th>seller_id</th>\n",
       "      <th>shipping_limit_date</th>\n",
       "      <th>price</th>\n",
       "      <th>freight_value</th>\n",
       "    </tr>\n",
       "  </thead>\n",
       "  <tbody>\n",
       "    <tr>\n",
       "      <th>0</th>\n",
       "      <td>ord_d25ca0e820f231046c70dd33</td>\n",
       "      <td>1</td>\n",
       "      <td>prod_f81e246eb80a8c0d2b147727</td>\n",
       "      <td>sell_8e7a797e599145b265c59456</td>\n",
       "      <td>2025-08-03 20:12:16.220071</td>\n",
       "      <td>552.30</td>\n",
       "      <td>70.27</td>\n",
       "    </tr>\n",
       "    <tr>\n",
       "      <th>1</th>\n",
       "      <td>ord_d25ca0e820f231046c70dd33</td>\n",
       "      <td>2</td>\n",
       "      <td>prod_2a39feb460adb7e5f843aeaf</td>\n",
       "      <td>sell_0a40bb7d39356dd9eaa24d93</td>\n",
       "      <td>2025-07-13 07:42:09.914739</td>\n",
       "      <td>1155.65</td>\n",
       "      <td>116.19</td>\n",
       "    </tr>\n",
       "    <tr>\n",
       "      <th>2</th>\n",
       "      <td>ord_5fa044951857e02fd1347b47</td>\n",
       "      <td>1</td>\n",
       "      <td>prod_9b6f1793388ae983f852d189</td>\n",
       "      <td>sell_34212979d97b6d1a8409a01e</td>\n",
       "      <td>2025-07-19 21:15:46.994884</td>\n",
       "      <td>111.91</td>\n",
       "      <td>9.50</td>\n",
       "    </tr>\n",
       "    <tr>\n",
       "      <th>3</th>\n",
       "      <td>ord_5fa044951857e02fd1347b47</td>\n",
       "      <td>2</td>\n",
       "      <td>prod_c7b5997a4d0061a9f50e874c</td>\n",
       "      <td>sell_4668fb88b81f8d834371c335</td>\n",
       "      <td>2025-07-17 10:00:54.671461</td>\n",
       "      <td>878.42</td>\n",
       "      <td>77.50</td>\n",
       "    </tr>\n",
       "    <tr>\n",
       "      <th>4</th>\n",
       "      <td>ord_0a02a8a1d3d282380ed7d0cc</td>\n",
       "      <td>1</td>\n",
       "      <td>prod_d5f7b6e420ea5cffc504ab21</td>\n",
       "      <td>sell_a9c81e2ceb456688ecf8e944</td>\n",
       "      <td>2025-08-08 16:24:49.849198</td>\n",
       "      <td>1030.31</td>\n",
       "      <td>15.47</td>\n",
       "    </tr>\n",
       "  </tbody>\n",
       "</table>\n",
       "</div>"
      ],
      "text/plain": [
       "                       order_id  order_item_id                     product_id  \\\n",
       "0  ord_d25ca0e820f231046c70dd33              1  prod_f81e246eb80a8c0d2b147727   \n",
       "1  ord_d25ca0e820f231046c70dd33              2  prod_2a39feb460adb7e5f843aeaf   \n",
       "2  ord_5fa044951857e02fd1347b47              1  prod_9b6f1793388ae983f852d189   \n",
       "3  ord_5fa044951857e02fd1347b47              2  prod_c7b5997a4d0061a9f50e874c   \n",
       "4  ord_0a02a8a1d3d282380ed7d0cc              1  prod_d5f7b6e420ea5cffc504ab21   \n",
       "\n",
       "                       seller_id         shipping_limit_date    price  \\\n",
       "0  sell_8e7a797e599145b265c59456  2025-08-03 20:12:16.220071   552.30   \n",
       "1  sell_0a40bb7d39356dd9eaa24d93  2025-07-13 07:42:09.914739  1155.65   \n",
       "2  sell_34212979d97b6d1a8409a01e  2025-07-19 21:15:46.994884   111.91   \n",
       "3  sell_4668fb88b81f8d834371c335  2025-07-17 10:00:54.671461   878.42   \n",
       "4  sell_a9c81e2ceb456688ecf8e944  2025-08-08 16:24:49.849198  1030.31   \n",
       "\n",
       "   freight_value  \n",
       "0          70.27  \n",
       "1         116.19  \n",
       "2           9.50  \n",
       "3          77.50  \n",
       "4          15.47  "
      ]
     },
     "execution_count": 5,
     "metadata": {},
     "output_type": "execute_result"
    }
   ],
   "source": [
    "order_items.head(5)"
   ]
  },
  {
   "cell_type": "code",
   "execution_count": 6,
   "id": "1fcd5db3-a0ee-4808-a131-7d634686d57d",
   "metadata": {},
   "outputs": [
    {
     "data": {
      "text/html": [
       "<div>\n",
       "<style scoped>\n",
       "    .dataframe tbody tr th:only-of-type {\n",
       "        vertical-align: middle;\n",
       "    }\n",
       "\n",
       "    .dataframe tbody tr th {\n",
       "        vertical-align: top;\n",
       "    }\n",
       "\n",
       "    .dataframe thead th {\n",
       "        text-align: right;\n",
       "    }\n",
       "</style>\n",
       "<table border=\"1\" class=\"dataframe\">\n",
       "  <thead>\n",
       "    <tr style=\"text-align: right;\">\n",
       "      <th></th>\n",
       "      <th>order_item_id</th>\n",
       "      <th>price</th>\n",
       "      <th>freight_value</th>\n",
       "    </tr>\n",
       "  </thead>\n",
       "  <tbody>\n",
       "    <tr>\n",
       "      <th>count</th>\n",
       "      <td>16047.000000</td>\n",
       "      <td>16047.000000</td>\n",
       "      <td>16047.000000</td>\n",
       "    </tr>\n",
       "    <tr>\n",
       "      <th>mean</th>\n",
       "      <td>1.559108</td>\n",
       "      <td>451.136576</td>\n",
       "      <td>45.509333</td>\n",
       "    </tr>\n",
       "    <tr>\n",
       "      <th>std</th>\n",
       "      <td>0.860147</td>\n",
       "      <td>473.862118</td>\n",
       "      <td>61.182962</td>\n",
       "    </tr>\n",
       "    <tr>\n",
       "      <th>min</th>\n",
       "      <td>1.000000</td>\n",
       "      <td>5.020000</td>\n",
       "      <td>0.000000</td>\n",
       "    </tr>\n",
       "    <tr>\n",
       "      <th>25%</th>\n",
       "      <td>1.000000</td>\n",
       "      <td>94.695000</td>\n",
       "      <td>6.540000</td>\n",
       "    </tr>\n",
       "    <tr>\n",
       "      <th>50%</th>\n",
       "      <td>1.000000</td>\n",
       "      <td>256.360000</td>\n",
       "      <td>19.950000</td>\n",
       "    </tr>\n",
       "    <tr>\n",
       "      <th>75%</th>\n",
       "      <td>2.000000</td>\n",
       "      <td>662.875000</td>\n",
       "      <td>57.770000</td>\n",
       "    </tr>\n",
       "    <tr>\n",
       "      <th>max</th>\n",
       "      <td>5.000000</td>\n",
       "      <td>1999.350000</td>\n",
       "      <td>385.230000</td>\n",
       "    </tr>\n",
       "  </tbody>\n",
       "</table>\n",
       "</div>"
      ],
      "text/plain": [
       "       order_item_id         price  freight_value\n",
       "count   16047.000000  16047.000000   16047.000000\n",
       "mean        1.559108    451.136576      45.509333\n",
       "std         0.860147    473.862118      61.182962\n",
       "min         1.000000      5.020000       0.000000\n",
       "25%         1.000000     94.695000       6.540000\n",
       "50%         1.000000    256.360000      19.950000\n",
       "75%         2.000000    662.875000      57.770000\n",
       "max         5.000000   1999.350000     385.230000"
      ]
     },
     "execution_count": 6,
     "metadata": {},
     "output_type": "execute_result"
    }
   ],
   "source": [
    "order_items.describe()"
   ]
  },
  {
   "cell_type": "code",
   "execution_count": 7,
   "id": "f9794dec-d8f1-4ac9-8292-3bd09517efe3",
   "metadata": {},
   "outputs": [],
   "source": [
    "products = pd.read_csv('ecommerce_data/products_dataset.csv')"
   ]
  },
  {
   "cell_type": "code",
   "execution_count": 8,
   "id": "9b82b0bd-ae76-4a44-9d08-e97724720ff5",
   "metadata": {},
   "outputs": [
    {
     "data": {
      "text/html": [
       "<div>\n",
       "<style scoped>\n",
       "    .dataframe tbody tr th:only-of-type {\n",
       "        vertical-align: middle;\n",
       "    }\n",
       "\n",
       "    .dataframe tbody tr th {\n",
       "        vertical-align: top;\n",
       "    }\n",
       "\n",
       "    .dataframe thead th {\n",
       "        text-align: right;\n",
       "    }\n",
       "</style>\n",
       "<table border=\"1\" class=\"dataframe\">\n",
       "  <thead>\n",
       "    <tr style=\"text-align: right;\">\n",
       "      <th></th>\n",
       "      <th>product_id</th>\n",
       "      <th>product_category_name</th>\n",
       "      <th>product_name_length</th>\n",
       "      <th>product_description_length</th>\n",
       "      <th>product_photos_qty</th>\n",
       "      <th>product_weight_g</th>\n",
       "      <th>product_length_cm</th>\n",
       "      <th>product_height_cm</th>\n",
       "      <th>product_width_cm</th>\n",
       "    </tr>\n",
       "  </thead>\n",
       "  <tbody>\n",
       "    <tr>\n",
       "      <th>0</th>\n",
       "      <td>prod_0702c614047dcf15e4cf9ee5</td>\n",
       "      <td>books_media</td>\n",
       "      <td>8</td>\n",
       "      <td>667</td>\n",
       "      <td>1</td>\n",
       "      <td>569</td>\n",
       "      <td>52</td>\n",
       "      <td>27</td>\n",
       "      <td>33</td>\n",
       "    </tr>\n",
       "    <tr>\n",
       "      <th>1</th>\n",
       "      <td>prod_232861afeeb9a9bea4e49bfb</td>\n",
       "      <td>grocery_gourmet_food</td>\n",
       "      <td>3</td>\n",
       "      <td>1095</td>\n",
       "      <td>9</td>\n",
       "      <td>4364</td>\n",
       "      <td>20</td>\n",
       "      <td>35</td>\n",
       "      <td>50</td>\n",
       "    </tr>\n",
       "    <tr>\n",
       "      <th>2</th>\n",
       "      <td>prod_11c4729392af43bf09acc3b4</td>\n",
       "      <td>electronics</td>\n",
       "      <td>11</td>\n",
       "      <td>1189</td>\n",
       "      <td>9</td>\n",
       "      <td>2444</td>\n",
       "      <td>62</td>\n",
       "      <td>44</td>\n",
       "      <td>28</td>\n",
       "    </tr>\n",
       "    <tr>\n",
       "      <th>3</th>\n",
       "      <td>prod_3eb8a57b5f35a81b3fabe140</td>\n",
       "      <td>sports_outdoors</td>\n",
       "      <td>13</td>\n",
       "      <td>1738</td>\n",
       "      <td>2</td>\n",
       "      <td>1592</td>\n",
       "      <td>63</td>\n",
       "      <td>10</td>\n",
       "      <td>10</td>\n",
       "    </tr>\n",
       "    <tr>\n",
       "      <th>4</th>\n",
       "      <td>prod_8e9bacdb223b5b2dc3ecc448</td>\n",
       "      <td>home_garden</td>\n",
       "      <td>10</td>\n",
       "      <td>900</td>\n",
       "      <td>3</td>\n",
       "      <td>2412</td>\n",
       "      <td>14</td>\n",
       "      <td>11</td>\n",
       "      <td>15</td>\n",
       "    </tr>\n",
       "  </tbody>\n",
       "</table>\n",
       "</div>"
      ],
      "text/plain": [
       "                      product_id product_category_name  product_name_length  \\\n",
       "0  prod_0702c614047dcf15e4cf9ee5           books_media                    8   \n",
       "1  prod_232861afeeb9a9bea4e49bfb  grocery_gourmet_food                    3   \n",
       "2  prod_11c4729392af43bf09acc3b4           electronics                   11   \n",
       "3  prod_3eb8a57b5f35a81b3fabe140       sports_outdoors                   13   \n",
       "4  prod_8e9bacdb223b5b2dc3ecc448           home_garden                   10   \n",
       "\n",
       "   product_description_length  product_photos_qty  product_weight_g  \\\n",
       "0                         667                   1               569   \n",
       "1                        1095                   9              4364   \n",
       "2                        1189                   9              2444   \n",
       "3                        1738                   2              1592   \n",
       "4                         900                   3              2412   \n",
       "\n",
       "   product_length_cm  product_height_cm  product_width_cm  \n",
       "0                 52                 27                33  \n",
       "1                 20                 35                50  \n",
       "2                 62                 44                28  \n",
       "3                 63                 10                10  \n",
       "4                 14                 11                15  "
      ]
     },
     "execution_count": 8,
     "metadata": {},
     "output_type": "execute_result"
    }
   ],
   "source": [
    "products.head(5)"
   ]
  },
  {
   "cell_type": "code",
   "execution_count": 9,
   "id": "230eb656-8f43-4d08-9e0c-fc8418235e34",
   "metadata": {},
   "outputs": [
    {
     "data": {
      "text/plain": [
       "6000"
      ]
     },
     "execution_count": 9,
     "metadata": {},
     "output_type": "execute_result"
    }
   ],
   "source": [
    "products['product_id'].nunique()"
   ]
  },
  {
   "cell_type": "code",
   "execution_count": 10,
   "id": "361655ee-0c76-40c5-9cf5-e2a99c878d5e",
   "metadata": {},
   "outputs": [
    {
     "data": {
      "text/plain": [
       "13"
      ]
     },
     "execution_count": 10,
     "metadata": {},
     "output_type": "execute_result"
    }
   ],
   "source": [
    "products['product_category_name'].nunique()"
   ]
  },
  {
   "cell_type": "code",
   "execution_count": 11,
   "id": "2fd39538-9a32-46d9-ab60-38f7534092df",
   "metadata": {},
   "outputs": [
    {
     "data": {
      "text/plain": [
       "array(['books_media', 'grocery_gourmet_food', 'electronics',\n",
       "       'sports_outdoors', 'home_garden', 'pet_supplies', 'automotive',\n",
       "       'health_personal_care', 'toys_games', 'beauty_personal_care',\n",
       "       'clothing_shoes_jewelry', 'tools_home_improvement',\n",
       "       'baby_products'], dtype=object)"
      ]
     },
     "execution_count": 11,
     "metadata": {},
     "output_type": "execute_result"
    }
   ],
   "source": [
    "products['product_category_name'].unique()"
   ]
  },
  {
   "cell_type": "code",
   "execution_count": 12,
   "id": "9acde437-1cf0-4f1b-9df1-3152e61cb734",
   "metadata": {},
   "outputs": [],
   "source": [
    "customers = pd.read_csv('ecommerce_data/customers_dataset.csv')"
   ]
  },
  {
   "cell_type": "code",
   "execution_count": 13,
   "id": "4b3c0dee-e5b8-4db3-9c11-77ec1da91c72",
   "metadata": {},
   "outputs": [
    {
     "data": {
      "text/html": [
       "<div>\n",
       "<style scoped>\n",
       "    .dataframe tbody tr th:only-of-type {\n",
       "        vertical-align: middle;\n",
       "    }\n",
       "\n",
       "    .dataframe tbody tr th {\n",
       "        vertical-align: top;\n",
       "    }\n",
       "\n",
       "    .dataframe thead th {\n",
       "        text-align: right;\n",
       "    }\n",
       "</style>\n",
       "<table border=\"1\" class=\"dataframe\">\n",
       "  <thead>\n",
       "    <tr style=\"text-align: right;\">\n",
       "      <th></th>\n",
       "      <th>customer_id</th>\n",
       "      <th>customer_unique_id</th>\n",
       "      <th>customer_zip_code_prefix</th>\n",
       "      <th>customer_city</th>\n",
       "      <th>customer_state</th>\n",
       "    </tr>\n",
       "  </thead>\n",
       "  <tbody>\n",
       "    <tr>\n",
       "      <th>0</th>\n",
       "      <td>cust_81424b9dca2daa2e7c09c774</td>\n",
       "      <td>uniq_867c223b2af832eb6af2d087</td>\n",
       "      <td>93810</td>\n",
       "      <td>Sterling Heights</td>\n",
       "      <td>MI</td>\n",
       "    </tr>\n",
       "    <tr>\n",
       "      <th>1</th>\n",
       "      <td>cust_8f60935fb64a4a334ec14b66</td>\n",
       "      <td>uniq_886c28efca21281f6a4ab34c</td>\n",
       "      <td>24592</td>\n",
       "      <td>Edison</td>\n",
       "      <td>NJ</td>\n",
       "    </tr>\n",
       "    <tr>\n",
       "      <th>2</th>\n",
       "      <td>cust_df5d5fad5c6eb710cd04dbf3</td>\n",
       "      <td>uniq_c9a61035afa619ac7e298bd9</td>\n",
       "      <td>13278</td>\n",
       "      <td>Nashville</td>\n",
       "      <td>TN</td>\n",
       "    </tr>\n",
       "    <tr>\n",
       "      <th>3</th>\n",
       "      <td>cust_bf04b486c93b2a3053252225</td>\n",
       "      <td>uniq_05a257f8ffae418f2114ac50</td>\n",
       "      <td>46048</td>\n",
       "      <td>St. Petersburg</td>\n",
       "      <td>FL</td>\n",
       "    </tr>\n",
       "    <tr>\n",
       "      <th>4</th>\n",
       "      <td>cust_d8e8a4ab8c2cde4940ebe65b</td>\n",
       "      <td>uniq_23e6da0f822203771ce4a1ad</td>\n",
       "      <td>42098</td>\n",
       "      <td>Grand Rapids</td>\n",
       "      <td>MI</td>\n",
       "    </tr>\n",
       "  </tbody>\n",
       "</table>\n",
       "</div>"
      ],
      "text/plain": [
       "                     customer_id             customer_unique_id  \\\n",
       "0  cust_81424b9dca2daa2e7c09c774  uniq_867c223b2af832eb6af2d087   \n",
       "1  cust_8f60935fb64a4a334ec14b66  uniq_886c28efca21281f6a4ab34c   \n",
       "2  cust_df5d5fad5c6eb710cd04dbf3  uniq_c9a61035afa619ac7e298bd9   \n",
       "3  cust_bf04b486c93b2a3053252225  uniq_05a257f8ffae418f2114ac50   \n",
       "4  cust_d8e8a4ab8c2cde4940ebe65b  uniq_23e6da0f822203771ce4a1ad   \n",
       "\n",
       "   customer_zip_code_prefix     customer_city customer_state  \n",
       "0                     93810  Sterling Heights             MI  \n",
       "1                     24592            Edison             NJ  \n",
       "2                     13278         Nashville             TN  \n",
       "3                     46048    St. Petersburg             FL  \n",
       "4                     42098      Grand Rapids             MI  "
      ]
     },
     "execution_count": 13,
     "metadata": {},
     "output_type": "execute_result"
    }
   ],
   "source": [
    "customers.head(5)"
   ]
  },
  {
   "cell_type": "code",
   "execution_count": 14,
   "id": "6f7cfebf-6260-4a95-9f96-02d93d6a5dee",
   "metadata": {},
   "outputs": [],
   "source": [
    "reviews = pd.read_csv('ecommerce_data/order_reviews_dataset.csv')"
   ]
  },
  {
   "cell_type": "code",
   "execution_count": 15,
   "id": "61aad84a-e11a-4754-a856-4d91ffb423f1",
   "metadata": {},
   "outputs": [
    {
     "data": {
      "text/html": [
       "<div>\n",
       "<style scoped>\n",
       "    .dataframe tbody tr th:only-of-type {\n",
       "        vertical-align: middle;\n",
       "    }\n",
       "\n",
       "    .dataframe tbody tr th {\n",
       "        vertical-align: top;\n",
       "    }\n",
       "\n",
       "    .dataframe thead th {\n",
       "        text-align: right;\n",
       "    }\n",
       "</style>\n",
       "<table border=\"1\" class=\"dataframe\">\n",
       "  <thead>\n",
       "    <tr style=\"text-align: right;\">\n",
       "      <th></th>\n",
       "      <th>review_id</th>\n",
       "      <th>order_id</th>\n",
       "      <th>review_score</th>\n",
       "      <th>review_comment_title</th>\n",
       "      <th>review_comment_message</th>\n",
       "      <th>review_creation_date</th>\n",
       "      <th>review_answer_timestamp</th>\n",
       "    </tr>\n",
       "  </thead>\n",
       "  <tbody>\n",
       "    <tr>\n",
       "      <th>0</th>\n",
       "      <td>rev_cf66512d243a9c736611db79</td>\n",
       "      <td>ord_0351515bca881662bb2ed0f7</td>\n",
       "      <td>1</td>\n",
       "      <td>Could be better</td>\n",
       "      <td>NaN</td>\n",
       "      <td>2022-12-19 02:54:41.926280</td>\n",
       "      <td>2022-12-25 02:54:41.926280</td>\n",
       "    </tr>\n",
       "    <tr>\n",
       "      <th>1</th>\n",
       "      <td>rev_170b372335a392ab192feece</td>\n",
       "      <td>ord_e18ec5b12e17dd528787bc11</td>\n",
       "      <td>5</td>\n",
       "      <td>Fast shipping</td>\n",
       "      <td>NaN</td>\n",
       "      <td>2023-08-30 23:05:04.074035</td>\n",
       "      <td>NaN</td>\n",
       "    </tr>\n",
       "    <tr>\n",
       "      <th>2</th>\n",
       "      <td>rev_755658f3c51bd2daece5af05</td>\n",
       "      <td>ord_f8f03b749ff67a8545b90fb4</td>\n",
       "      <td>4</td>\n",
       "      <td>Excellent quality</td>\n",
       "      <td>Road baby sister because top. Also guy still r...</td>\n",
       "      <td>2022-04-21 00:09:17.844351</td>\n",
       "      <td>NaN</td>\n",
       "    </tr>\n",
       "    <tr>\n",
       "      <th>3</th>\n",
       "      <td>rev_1ccfe45490cc37a378d334c9</td>\n",
       "      <td>ord_ccc664964b9f7efa8de052f4</td>\n",
       "      <td>5</td>\n",
       "      <td>Good value</td>\n",
       "      <td>NaN</td>\n",
       "      <td>2022-07-02 12:40:20.029498</td>\n",
       "      <td>NaN</td>\n",
       "    </tr>\n",
       "    <tr>\n",
       "      <th>4</th>\n",
       "      <td>rev_f4a94b1b7703d836c3a4a6bd</td>\n",
       "      <td>ord_536049e419c0f242aa0a8c00</td>\n",
       "      <td>5</td>\n",
       "      <td>Amazing</td>\n",
       "      <td>Hotel one last. The whole fast they. Performan...</td>\n",
       "      <td>2022-12-15 10:21:01.843298</td>\n",
       "      <td>NaN</td>\n",
       "    </tr>\n",
       "  </tbody>\n",
       "</table>\n",
       "</div>"
      ],
      "text/plain": [
       "                      review_id                      order_id  review_score  \\\n",
       "0  rev_cf66512d243a9c736611db79  ord_0351515bca881662bb2ed0f7             1   \n",
       "1  rev_170b372335a392ab192feece  ord_e18ec5b12e17dd528787bc11             5   \n",
       "2  rev_755658f3c51bd2daece5af05  ord_f8f03b749ff67a8545b90fb4             4   \n",
       "3  rev_1ccfe45490cc37a378d334c9  ord_ccc664964b9f7efa8de052f4             5   \n",
       "4  rev_f4a94b1b7703d836c3a4a6bd  ord_536049e419c0f242aa0a8c00             5   \n",
       "\n",
       "  review_comment_title                             review_comment_message  \\\n",
       "0      Could be better                                                NaN   \n",
       "1        Fast shipping                                                NaN   \n",
       "2    Excellent quality  Road baby sister because top. Also guy still r...   \n",
       "3           Good value                                                NaN   \n",
       "4              Amazing  Hotel one last. The whole fast they. Performan...   \n",
       "\n",
       "         review_creation_date     review_answer_timestamp  \n",
       "0  2022-12-19 02:54:41.926280  2022-12-25 02:54:41.926280  \n",
       "1  2023-08-30 23:05:04.074035                         NaN  \n",
       "2  2022-04-21 00:09:17.844351                         NaN  \n",
       "3  2022-07-02 12:40:20.029498                         NaN  \n",
       "4  2022-12-15 10:21:01.843298                         NaN  "
      ]
     },
     "execution_count": 15,
     "metadata": {},
     "output_type": "execute_result"
    }
   ],
   "source": [
    "reviews.head(5)"
   ]
  },
  {
   "cell_type": "code",
   "execution_count": 16,
   "id": "6fc0f9a5-a7f9-458f-9c64-b8596143d4e1",
   "metadata": {},
   "outputs": [],
   "source": [
    "# How much revenue did we generate in 2023 compared to 2022?"
   ]
  },
  {
   "cell_type": "code",
   "execution_count": 17,
   "id": "70ff902e-34a2-4a1c-8375-195081293380",
   "metadata": {},
   "outputs": [
    {
     "data": {
      "text/html": [
       "<div>\n",
       "<style scoped>\n",
       "    .dataframe tbody tr th:only-of-type {\n",
       "        vertical-align: middle;\n",
       "    }\n",
       "\n",
       "    .dataframe tbody tr th {\n",
       "        vertical-align: top;\n",
       "    }\n",
       "\n",
       "    .dataframe thead th {\n",
       "        text-align: right;\n",
       "    }\n",
       "</style>\n",
       "<table border=\"1\" class=\"dataframe\">\n",
       "  <thead>\n",
       "    <tr style=\"text-align: right;\">\n",
       "      <th></th>\n",
       "      <th>order_id</th>\n",
       "      <th>order_item_id</th>\n",
       "      <th>product_id</th>\n",
       "      <th>seller_id</th>\n",
       "      <th>shipping_limit_date</th>\n",
       "      <th>price</th>\n",
       "      <th>freight_value</th>\n",
       "    </tr>\n",
       "  </thead>\n",
       "  <tbody>\n",
       "    <tr>\n",
       "      <th>0</th>\n",
       "      <td>ord_d25ca0e820f231046c70dd33</td>\n",
       "      <td>1</td>\n",
       "      <td>prod_f81e246eb80a8c0d2b147727</td>\n",
       "      <td>sell_8e7a797e599145b265c59456</td>\n",
       "      <td>2025-08-03 20:12:16.220071</td>\n",
       "      <td>552.30</td>\n",
       "      <td>70.27</td>\n",
       "    </tr>\n",
       "    <tr>\n",
       "      <th>1</th>\n",
       "      <td>ord_d25ca0e820f231046c70dd33</td>\n",
       "      <td>2</td>\n",
       "      <td>prod_2a39feb460adb7e5f843aeaf</td>\n",
       "      <td>sell_0a40bb7d39356dd9eaa24d93</td>\n",
       "      <td>2025-07-13 07:42:09.914739</td>\n",
       "      <td>1155.65</td>\n",
       "      <td>116.19</td>\n",
       "    </tr>\n",
       "  </tbody>\n",
       "</table>\n",
       "</div>"
      ],
      "text/plain": [
       "                       order_id  order_item_id                     product_id  \\\n",
       "0  ord_d25ca0e820f231046c70dd33              1  prod_f81e246eb80a8c0d2b147727   \n",
       "1  ord_d25ca0e820f231046c70dd33              2  prod_2a39feb460adb7e5f843aeaf   \n",
       "\n",
       "                       seller_id         shipping_limit_date    price  \\\n",
       "0  sell_8e7a797e599145b265c59456  2025-08-03 20:12:16.220071   552.30   \n",
       "1  sell_0a40bb7d39356dd9eaa24d93  2025-07-13 07:42:09.914739  1155.65   \n",
       "\n",
       "   freight_value  \n",
       "0          70.27  \n",
       "1         116.19  "
      ]
     },
     "execution_count": 17,
     "metadata": {},
     "output_type": "execute_result"
    }
   ],
   "source": [
    "order_items.head(2)"
   ]
  },
  {
   "cell_type": "code",
   "execution_count": 18,
   "id": "dac502c4-41b0-418c-b89d-7eb69c1b940c",
   "metadata": {},
   "outputs": [
    {
     "data": {
      "text/html": [
       "<div>\n",
       "<style scoped>\n",
       "    .dataframe tbody tr th:only-of-type {\n",
       "        vertical-align: middle;\n",
       "    }\n",
       "\n",
       "    .dataframe tbody tr th {\n",
       "        vertical-align: top;\n",
       "    }\n",
       "\n",
       "    .dataframe thead th {\n",
       "        text-align: right;\n",
       "    }\n",
       "</style>\n",
       "<table border=\"1\" class=\"dataframe\">\n",
       "  <thead>\n",
       "    <tr style=\"text-align: right;\">\n",
       "      <th></th>\n",
       "      <th>order_id</th>\n",
       "      <th>customer_id</th>\n",
       "      <th>order_status</th>\n",
       "      <th>order_purchase_timestamp</th>\n",
       "      <th>order_approved_at</th>\n",
       "      <th>order_delivered_carrier_date</th>\n",
       "      <th>order_delivered_customer_date</th>\n",
       "      <th>order_estimated_delivery_date</th>\n",
       "    </tr>\n",
       "  </thead>\n",
       "  <tbody>\n",
       "    <tr>\n",
       "      <th>0</th>\n",
       "      <td>ord_d25ca0e820f231046c70dd33</td>\n",
       "      <td>cust_d6ec876eea63d04ced06e168</td>\n",
       "      <td>canceled</td>\n",
       "      <td>2023-04-24 12:18:14.590086</td>\n",
       "      <td>2023-04-25 00:18:14.590086</td>\n",
       "      <td>NaN</td>\n",
       "      <td>NaN</td>\n",
       "      <td>2023-05-02 00:18:14.590086</td>\n",
       "    </tr>\n",
       "    <tr>\n",
       "      <th>1</th>\n",
       "      <td>ord_5fa044951857e02fd1347b47</td>\n",
       "      <td>cust_2d36e4b647be13c15df550af</td>\n",
       "      <td>delivered</td>\n",
       "      <td>2023-04-24 13:05:32.579655</td>\n",
       "      <td>2023-04-26 02:05:32.579655</td>\n",
       "      <td>2023-04-27 02:05:32.579655</td>\n",
       "      <td>2023-05-01 02:05:32.579655</td>\n",
       "      <td>2023-05-11 02:05:32.579655</td>\n",
       "    </tr>\n",
       "  </tbody>\n",
       "</table>\n",
       "</div>"
      ],
      "text/plain": [
       "                       order_id                    customer_id order_status  \\\n",
       "0  ord_d25ca0e820f231046c70dd33  cust_d6ec876eea63d04ced06e168     canceled   \n",
       "1  ord_5fa044951857e02fd1347b47  cust_2d36e4b647be13c15df550af    delivered   \n",
       "\n",
       "     order_purchase_timestamp           order_approved_at  \\\n",
       "0  2023-04-24 12:18:14.590086  2023-04-25 00:18:14.590086   \n",
       "1  2023-04-24 13:05:32.579655  2023-04-26 02:05:32.579655   \n",
       "\n",
       "  order_delivered_carrier_date order_delivered_customer_date  \\\n",
       "0                          NaN                           NaN   \n",
       "1   2023-04-27 02:05:32.579655    2023-05-01 02:05:32.579655   \n",
       "\n",
       "  order_estimated_delivery_date  \n",
       "0    2023-05-02 00:18:14.590086  \n",
       "1    2023-05-11 02:05:32.579655  "
      ]
     },
     "execution_count": 18,
     "metadata": {},
     "output_type": "execute_result"
    }
   ],
   "source": [
    "orders.head(2)"
   ]
  },
  {
   "cell_type": "code",
   "execution_count": 19,
   "id": "2a7bce92-f069-495d-8cd9-060e16884f89",
   "metadata": {},
   "outputs": [],
   "source": [
    "sales_data = pd.merge(left = order_items[['order_id','order_item_id', 'product_id', 'price']],\n",
    "         right = orders[['order_id', 'order_status', 'order_purchase_timestamp', 'order_delivered_customer_date']],\n",
    "         on = 'order_id')"
   ]
  },
  {
   "cell_type": "code",
   "execution_count": 20,
   "id": "b54c8edf-7355-4544-9d58-98d3613ba2ea",
   "metadata": {},
   "outputs": [
    {
     "data": {
      "text/html": [
       "<div>\n",
       "<style scoped>\n",
       "    .dataframe tbody tr th:only-of-type {\n",
       "        vertical-align: middle;\n",
       "    }\n",
       "\n",
       "    .dataframe tbody tr th {\n",
       "        vertical-align: top;\n",
       "    }\n",
       "\n",
       "    .dataframe thead th {\n",
       "        text-align: right;\n",
       "    }\n",
       "</style>\n",
       "<table border=\"1\" class=\"dataframe\">\n",
       "  <thead>\n",
       "    <tr style=\"text-align: right;\">\n",
       "      <th></th>\n",
       "      <th>order_id</th>\n",
       "      <th>order_item_id</th>\n",
       "      <th>product_id</th>\n",
       "      <th>price</th>\n",
       "      <th>order_status</th>\n",
       "      <th>order_purchase_timestamp</th>\n",
       "      <th>order_delivered_customer_date</th>\n",
       "    </tr>\n",
       "  </thead>\n",
       "  <tbody>\n",
       "    <tr>\n",
       "      <th>0</th>\n",
       "      <td>ord_d25ca0e820f231046c70dd33</td>\n",
       "      <td>1</td>\n",
       "      <td>prod_f81e246eb80a8c0d2b147727</td>\n",
       "      <td>552.30</td>\n",
       "      <td>canceled</td>\n",
       "      <td>2023-04-24 12:18:14.590086</td>\n",
       "      <td>NaN</td>\n",
       "    </tr>\n",
       "    <tr>\n",
       "      <th>1</th>\n",
       "      <td>ord_d25ca0e820f231046c70dd33</td>\n",
       "      <td>2</td>\n",
       "      <td>prod_2a39feb460adb7e5f843aeaf</td>\n",
       "      <td>1155.65</td>\n",
       "      <td>canceled</td>\n",
       "      <td>2023-04-24 12:18:14.590086</td>\n",
       "      <td>NaN</td>\n",
       "    </tr>\n",
       "  </tbody>\n",
       "</table>\n",
       "</div>"
      ],
      "text/plain": [
       "                       order_id  order_item_id                     product_id  \\\n",
       "0  ord_d25ca0e820f231046c70dd33              1  prod_f81e246eb80a8c0d2b147727   \n",
       "1  ord_d25ca0e820f231046c70dd33              2  prod_2a39feb460adb7e5f843aeaf   \n",
       "\n",
       "     price order_status    order_purchase_timestamp  \\\n",
       "0   552.30     canceled  2023-04-24 12:18:14.590086   \n",
       "1  1155.65     canceled  2023-04-24 12:18:14.590086   \n",
       "\n",
       "  order_delivered_customer_date  \n",
       "0                           NaN  \n",
       "1                           NaN  "
      ]
     },
     "execution_count": 20,
     "metadata": {},
     "output_type": "execute_result"
    }
   ],
   "source": [
    "sales_data.head(2)"
   ]
  },
  {
   "cell_type": "code",
   "execution_count": 21,
   "id": "9002b9ff-c355-406e-8640-b79f31ebee5b",
   "metadata": {},
   "outputs": [
    {
     "data": {
      "text/plain": [
       "array(['canceled', 'delivered', 'pending', 'processing', 'shipped',\n",
       "       'returned'], dtype=object)"
      ]
     },
     "execution_count": 21,
     "metadata": {},
     "output_type": "execute_result"
    }
   ],
   "source": [
    "sales_data['order_status'].unique()"
   ]
  },
  {
   "cell_type": "code",
   "execution_count": 22,
   "id": "9ee81d28-abf5-4a71-ac24-7a329667eea8",
   "metadata": {},
   "outputs": [],
   "source": [
    "sales_delivered = sales_data[sales_data['order_status'] == 'delivered']"
   ]
  },
  {
   "cell_type": "code",
   "execution_count": 23,
   "id": "1b29670c-5e41-4e42-bc9d-b1e0575f6f44",
   "metadata": {},
   "outputs": [
    {
     "name": "stderr",
     "output_type": "stream",
     "text": [
      "/var/folders/y8/k58_4sk56z3b6zm12wnn099c0000gn/T/ipykernel_35223/3938743507.py:1: SettingWithCopyWarning: \n",
      "A value is trying to be set on a copy of a slice from a DataFrame.\n",
      "Try using .loc[row_indexer,col_indexer] = value instead\n",
      "\n",
      "See the caveats in the documentation: https://pandas.pydata.org/pandas-docs/stable/user_guide/indexing.html#returning-a-view-versus-a-copy\n",
      "  sales_delivered['order_purchase_timestamp'] = pd.to_datetime(sales_delivered['order_purchase_timestamp'])\n"
     ]
    }
   ],
   "source": [
    "sales_delivered['order_purchase_timestamp'] = pd.to_datetime(sales_delivered['order_purchase_timestamp'])"
   ]
  },
  {
   "cell_type": "code",
   "execution_count": 24,
   "id": "46b8f1e4-ec9e-4f56-ad40-aad5f101204a",
   "metadata": {},
   "outputs": [
    {
     "name": "stderr",
     "output_type": "stream",
     "text": [
      "/var/folders/y8/k58_4sk56z3b6zm12wnn099c0000gn/T/ipykernel_35223/2660078102.py:1: SettingWithCopyWarning: \n",
      "A value is trying to be set on a copy of a slice from a DataFrame.\n",
      "Try using .loc[row_indexer,col_indexer] = value instead\n",
      "\n",
      "See the caveats in the documentation: https://pandas.pydata.org/pandas-docs/stable/user_guide/indexing.html#returning-a-view-versus-a-copy\n",
      "  sales_delivered['month'] = sales_delivered['order_purchase_timestamp'].apply(lambda timestamp:timestamp.month)\n"
     ]
    }
   ],
   "source": [
    "sales_delivered['month'] = sales_delivered['order_purchase_timestamp'].apply(lambda timestamp:timestamp.month)"
   ]
  },
  {
   "cell_type": "code",
   "execution_count": 25,
   "id": "742c0979-d61a-4140-b330-4f1fce12b938",
   "metadata": {},
   "outputs": [
    {
     "name": "stderr",
     "output_type": "stream",
     "text": [
      "/var/folders/y8/k58_4sk56z3b6zm12wnn099c0000gn/T/ipykernel_35223/3574977089.py:1: SettingWithCopyWarning: \n",
      "A value is trying to be set on a copy of a slice from a DataFrame.\n",
      "Try using .loc[row_indexer,col_indexer] = value instead\n",
      "\n",
      "See the caveats in the documentation: https://pandas.pydata.org/pandas-docs/stable/user_guide/indexing.html#returning-a-view-versus-a-copy\n",
      "  sales_delivered['year'] = sales_delivered['order_purchase_timestamp'].apply(lambda timestamp:timestamp.year)\n"
     ]
    }
   ],
   "source": [
    "sales_delivered['year'] = sales_delivered['order_purchase_timestamp'].apply(lambda timestamp:timestamp.year)"
   ]
  },
  {
   "cell_type": "code",
   "execution_count": 26,
   "id": "c22593a8-ebc1-4bce-8687-4cdcb600de8d",
   "metadata": {},
   "outputs": [
    {
     "data": {
      "text/html": [
       "<div>\n",
       "<style scoped>\n",
       "    .dataframe tbody tr th:only-of-type {\n",
       "        vertical-align: middle;\n",
       "    }\n",
       "\n",
       "    .dataframe tbody tr th {\n",
       "        vertical-align: top;\n",
       "    }\n",
       "\n",
       "    .dataframe thead th {\n",
       "        text-align: right;\n",
       "    }\n",
       "</style>\n",
       "<table border=\"1\" class=\"dataframe\">\n",
       "  <thead>\n",
       "    <tr style=\"text-align: right;\">\n",
       "      <th></th>\n",
       "      <th>order_id</th>\n",
       "      <th>order_item_id</th>\n",
       "      <th>product_id</th>\n",
       "      <th>price</th>\n",
       "      <th>order_status</th>\n",
       "      <th>order_purchase_timestamp</th>\n",
       "      <th>order_delivered_customer_date</th>\n",
       "      <th>month</th>\n",
       "      <th>year</th>\n",
       "    </tr>\n",
       "  </thead>\n",
       "  <tbody>\n",
       "    <tr>\n",
       "      <th>2</th>\n",
       "      <td>ord_5fa044951857e02fd1347b47</td>\n",
       "      <td>1</td>\n",
       "      <td>prod_9b6f1793388ae983f852d189</td>\n",
       "      <td>111.91</td>\n",
       "      <td>delivered</td>\n",
       "      <td>2023-04-24 13:05:32.579655</td>\n",
       "      <td>2023-05-01 02:05:32.579655</td>\n",
       "      <td>4</td>\n",
       "      <td>2023</td>\n",
       "    </tr>\n",
       "    <tr>\n",
       "      <th>3</th>\n",
       "      <td>ord_5fa044951857e02fd1347b47</td>\n",
       "      <td>2</td>\n",
       "      <td>prod_c7b5997a4d0061a9f50e874c</td>\n",
       "      <td>878.42</td>\n",
       "      <td>delivered</td>\n",
       "      <td>2023-04-24 13:05:32.579655</td>\n",
       "      <td>2023-05-01 02:05:32.579655</td>\n",
       "      <td>4</td>\n",
       "      <td>2023</td>\n",
       "    </tr>\n",
       "    <tr>\n",
       "      <th>4</th>\n",
       "      <td>ord_0a02a8a1d3d282380ed7d0cc</td>\n",
       "      <td>1</td>\n",
       "      <td>prod_d5f7b6e420ea5cffc504ab21</td>\n",
       "      <td>1030.31</td>\n",
       "      <td>delivered</td>\n",
       "      <td>2022-05-15 07:51:22.471390</td>\n",
       "      <td>2022-05-23 01:51:22.471390</td>\n",
       "      <td>5</td>\n",
       "      <td>2022</td>\n",
       "    </tr>\n",
       "    <tr>\n",
       "      <th>5</th>\n",
       "      <td>ord_0a02a8a1d3d282380ed7d0cc</td>\n",
       "      <td>2</td>\n",
       "      <td>prod_01b00f21c2758bf94f51234f</td>\n",
       "      <td>1299.50</td>\n",
       "      <td>delivered</td>\n",
       "      <td>2022-05-15 07:51:22.471390</td>\n",
       "      <td>2022-05-23 01:51:22.471390</td>\n",
       "      <td>5</td>\n",
       "      <td>2022</td>\n",
       "    </tr>\n",
       "    <tr>\n",
       "      <th>6</th>\n",
       "      <td>ord_8a243422e3ad7ab97a1fe175</td>\n",
       "      <td>1</td>\n",
       "      <td>prod_a904d724d4b2b8f571e66f19</td>\n",
       "      <td>1307.04</td>\n",
       "      <td>delivered</td>\n",
       "      <td>2022-04-18 15:02:44.122280</td>\n",
       "      <td>2022-04-30 16:02:44.122280</td>\n",
       "      <td>4</td>\n",
       "      <td>2022</td>\n",
       "    </tr>\n",
       "    <tr>\n",
       "      <th>...</th>\n",
       "      <td>...</td>\n",
       "      <td>...</td>\n",
       "      <td>...</td>\n",
       "      <td>...</td>\n",
       "      <td>...</td>\n",
       "      <td>...</td>\n",
       "      <td>...</td>\n",
       "      <td>...</td>\n",
       "      <td>...</td>\n",
       "    </tr>\n",
       "    <tr>\n",
       "      <th>16042</th>\n",
       "      <td>ord_cdc9c2e805967c1aad534fa3</td>\n",
       "      <td>1</td>\n",
       "      <td>prod_624e81d1d685de0b920e0ff5</td>\n",
       "      <td>229.41</td>\n",
       "      <td>delivered</td>\n",
       "      <td>2023-10-22 06:49:30.956321</td>\n",
       "      <td>2023-10-31 11:49:30.956321</td>\n",
       "      <td>10</td>\n",
       "      <td>2023</td>\n",
       "    </tr>\n",
       "    <tr>\n",
       "      <th>16043</th>\n",
       "      <td>ord_4a35f39a7d55c960f6b83dd7</td>\n",
       "      <td>1</td>\n",
       "      <td>prod_4ca86e0b56f746a8310ce7b2</td>\n",
       "      <td>215.14</td>\n",
       "      <td>delivered</td>\n",
       "      <td>2023-06-04 12:08:27.459552</td>\n",
       "      <td>2023-06-08 18:08:27.459552</td>\n",
       "      <td>6</td>\n",
       "      <td>2023</td>\n",
       "    </tr>\n",
       "    <tr>\n",
       "      <th>16044</th>\n",
       "      <td>ord_653e451842818bd16eace59a</td>\n",
       "      <td>1</td>\n",
       "      <td>prod_a83e1ef5d4a9fd872fe69560</td>\n",
       "      <td>18.07</td>\n",
       "      <td>delivered</td>\n",
       "      <td>2022-07-24 02:29:42.232102</td>\n",
       "      <td>2022-07-29 21:29:42.232102</td>\n",
       "      <td>7</td>\n",
       "      <td>2022</td>\n",
       "    </tr>\n",
       "    <tr>\n",
       "      <th>16045</th>\n",
       "      <td>ord_92b4834cb822e6438cf0ee03</td>\n",
       "      <td>1</td>\n",
       "      <td>prod_6e09c26ef7238f97d3c6038c</td>\n",
       "      <td>471.87</td>\n",
       "      <td>delivered</td>\n",
       "      <td>2022-11-05 22:22:09.322162</td>\n",
       "      <td>2022-11-15 11:22:09.322162</td>\n",
       "      <td>11</td>\n",
       "      <td>2022</td>\n",
       "    </tr>\n",
       "    <tr>\n",
       "      <th>16046</th>\n",
       "      <td>ord_92b4834cb822e6438cf0ee03</td>\n",
       "      <td>2</td>\n",
       "      <td>prod_4f66190446d96ac4214b5ad0</td>\n",
       "      <td>1168.30</td>\n",
       "      <td>delivered</td>\n",
       "      <td>2022-11-05 22:22:09.322162</td>\n",
       "      <td>2022-11-15 11:22:09.322162</td>\n",
       "      <td>11</td>\n",
       "      <td>2022</td>\n",
       "    </tr>\n",
       "  </tbody>\n",
       "</table>\n",
       "<p>15095 rows × 9 columns</p>\n",
       "</div>"
      ],
      "text/plain": [
       "                           order_id  order_item_id  \\\n",
       "2      ord_5fa044951857e02fd1347b47              1   \n",
       "3      ord_5fa044951857e02fd1347b47              2   \n",
       "4      ord_0a02a8a1d3d282380ed7d0cc              1   \n",
       "5      ord_0a02a8a1d3d282380ed7d0cc              2   \n",
       "6      ord_8a243422e3ad7ab97a1fe175              1   \n",
       "...                             ...            ...   \n",
       "16042  ord_cdc9c2e805967c1aad534fa3              1   \n",
       "16043  ord_4a35f39a7d55c960f6b83dd7              1   \n",
       "16044  ord_653e451842818bd16eace59a              1   \n",
       "16045  ord_92b4834cb822e6438cf0ee03              1   \n",
       "16046  ord_92b4834cb822e6438cf0ee03              2   \n",
       "\n",
       "                          product_id    price order_status  \\\n",
       "2      prod_9b6f1793388ae983f852d189   111.91    delivered   \n",
       "3      prod_c7b5997a4d0061a9f50e874c   878.42    delivered   \n",
       "4      prod_d5f7b6e420ea5cffc504ab21  1030.31    delivered   \n",
       "5      prod_01b00f21c2758bf94f51234f  1299.50    delivered   \n",
       "6      prod_a904d724d4b2b8f571e66f19  1307.04    delivered   \n",
       "...                              ...      ...          ...   \n",
       "16042  prod_624e81d1d685de0b920e0ff5   229.41    delivered   \n",
       "16043  prod_4ca86e0b56f746a8310ce7b2   215.14    delivered   \n",
       "16044  prod_a83e1ef5d4a9fd872fe69560    18.07    delivered   \n",
       "16045  prod_6e09c26ef7238f97d3c6038c   471.87    delivered   \n",
       "16046  prod_4f66190446d96ac4214b5ad0  1168.30    delivered   \n",
       "\n",
       "        order_purchase_timestamp order_delivered_customer_date  month  year  \n",
       "2     2023-04-24 13:05:32.579655    2023-05-01 02:05:32.579655      4  2023  \n",
       "3     2023-04-24 13:05:32.579655    2023-05-01 02:05:32.579655      4  2023  \n",
       "4     2022-05-15 07:51:22.471390    2022-05-23 01:51:22.471390      5  2022  \n",
       "5     2022-05-15 07:51:22.471390    2022-05-23 01:51:22.471390      5  2022  \n",
       "6     2022-04-18 15:02:44.122280    2022-04-30 16:02:44.122280      4  2022  \n",
       "...                          ...                           ...    ...   ...  \n",
       "16042 2023-10-22 06:49:30.956321    2023-10-31 11:49:30.956321     10  2023  \n",
       "16043 2023-06-04 12:08:27.459552    2023-06-08 18:08:27.459552      6  2023  \n",
       "16044 2022-07-24 02:29:42.232102    2022-07-29 21:29:42.232102      7  2022  \n",
       "16045 2022-11-05 22:22:09.322162    2022-11-15 11:22:09.322162     11  2022  \n",
       "16046 2022-11-05 22:22:09.322162    2022-11-15 11:22:09.322162     11  2022  \n",
       "\n",
       "[15095 rows x 9 columns]"
      ]
     },
     "execution_count": 26,
     "metadata": {},
     "output_type": "execute_result"
    }
   ],
   "source": [
    "sales_delivered"
   ]
  },
  {
   "cell_type": "code",
   "execution_count": 27,
   "id": "f85560db-1d84-4d2f-b9c4-8ec48338ef58",
   "metadata": {},
   "outputs": [],
   "source": [
    "sales_delivered_2023 = sales_delivered[sales_delivered['year']==2023]\n",
    "sales_delivered_2022 = sales_delivered[sales_delivered['year']==2022]"
   ]
  },
  {
   "cell_type": "code",
   "execution_count": 28,
   "id": "74cb7e44-3968-4c87-a3be-eb4fce816ce0",
   "metadata": {},
   "outputs": [
    {
     "name": "stdout",
     "output_type": "stream",
     "text": [
      "total_revenue in 2023: 3360294.74\n"
     ]
    }
   ],
   "source": [
    "#total revenue in 2023\n",
    "print(f\"total_revenue in 2023: {sales_delivered_2023['price'].sum()}\")"
   ]
  },
  {
   "cell_type": "code",
   "execution_count": 29,
   "id": "164d265a-1d8a-4baa-b40f-4bedef397412",
   "metadata": {},
   "outputs": [
    {
     "name": "stdout",
     "output_type": "stream",
     "text": [
      "-2.4609673741512057%\n"
     ]
    }
   ],
   "source": [
    "# revenue compared to 2022\n",
    "revenue_growth=(sales_delivered_2023['price'].sum()-sales_delivered_2022['price'].sum())/sales_delivered_2022['price'].sum()\n",
    "print(f\"{revenue_growth*100}%\")"
   ]
  },
  {
   "cell_type": "code",
   "execution_count": 30,
   "id": "35e427a5-f65c-42d6-b463-3d0b3511ec4f",
   "metadata": {},
   "outputs": [],
   "source": [
    "# What is the month-over-month growth trend in 2023?"
   ]
  },
  {
   "cell_type": "code",
   "execution_count": 31,
   "id": "26c4cbf7-7d84-4c94-8712-d61cd5d9cc9e",
   "metadata": {},
   "outputs": [],
   "source": [
    "monthly_growth = sales_delivered_2023[['price', 'month']].groupby('month')['price'].sum().pct_change()"
   ]
  },
  {
   "cell_type": "code",
   "execution_count": 32,
   "id": "90a7d347-91b3-4c35-aa3c-5e000b67e4f0",
   "metadata": {},
   "outputs": [
    {
     "data": {
      "text/plain": [
       "month\n",
       "1          NaN\n",
       "2    -0.028425\n",
       "3     0.032014\n",
       "4    -0.111422\n",
       "5     0.187369\n",
       "6    -0.040555\n",
       "7     0.024497\n",
       "8    -0.032287\n",
       "9     0.059821\n",
       "10   -0.144516\n",
       "11   -0.001428\n",
       "12    0.012394\n",
       "Name: price, dtype: float64"
      ]
     },
     "execution_count": 32,
     "metadata": {},
     "output_type": "execute_result"
    }
   ],
   "source": [
    "monthly_growth"
   ]
  },
  {
   "cell_type": "code",
   "execution_count": 33,
   "id": "b19bdd25-4c8d-4027-a04b-1e7977a1ee86",
   "metadata": {},
   "outputs": [],
   "source": [
    "pct = monthly_growth.mean()"
   ]
  },
  {
   "cell_type": "code",
   "execution_count": 34,
   "id": "afbaa43c-6e9b-4bcc-9aca-b8e899a09bb8",
   "metadata": {},
   "outputs": [
    {
     "name": "stdout",
     "output_type": "stream",
     "text": [
      "Monthly growth in 2023: -0.3867047123228112%\n"
     ]
    }
   ],
   "source": [
    "print(f\"Monthly growth in 2023: {100*pct}%\")"
   ]
  },
  {
   "cell_type": "code",
   "execution_count": 35,
   "id": "c378a336-0d5c-4adb-bfe5-e4bb29d6397d",
   "metadata": {},
   "outputs": [],
   "source": [
    "# average order value in 2023"
   ]
  },
  {
   "cell_type": "code",
   "execution_count": 36,
   "id": "5579e8f7-ba1b-4d64-8b66-f9e11734b22d",
   "metadata": {},
   "outputs": [
    {
     "name": "stdout",
     "output_type": "stream",
     "text": [
      "Average order value in 2023: 724.9826839266451\n"
     ]
    }
   ],
   "source": [
    "print(f\"Average order value in 2023: {sales_delivered_2023.groupby('order_id')['price'].sum().mean()}\")"
   ]
  },
  {
   "cell_type": "code",
   "execution_count": 37,
   "id": "bb0bc50c-e114-43af-91ea-0dba6643fe3f",
   "metadata": {},
   "outputs": [
    {
     "name": "stdout",
     "output_type": "stream",
     "text": [
      "Compared to last year: -0.06194909597497408%\n"
     ]
    }
   ],
   "source": [
    "avg_order_2023 = sales_delivered_2023.groupby('order_id')['price'].sum().mean()\n",
    "avg_order_2022 = sales_delivered_2022.groupby('order_id')['price'].sum().mean()\n",
    "\n",
    "print(f\"Compared to last year: {100*(avg_order_2023 - avg_order_2022)/(avg_order_2022)}%\")"
   ]
  },
  {
   "cell_type": "code",
   "execution_count": 38,
   "id": "f0872484-7c14-425c-ba94-dd8b2548521f",
   "metadata": {},
   "outputs": [
    {
     "name": "stdout",
     "output_type": "stream",
     "text": [
      "Total number of orders in 2023: 4635\n"
     ]
    }
   ],
   "source": [
    "# Total orders in 2023\n",
    "print(f\"Total number of orders in 2023: {sales_delivered_2023['order_id'].nunique()}\")"
   ]
  },
  {
   "cell_type": "code",
   "execution_count": 39,
   "id": "06bee8b5-441e-4695-95fe-47aba098bfbd",
   "metadata": {},
   "outputs": [
    {
     "name": "stdout",
     "output_type": "stream",
     "text": [
      "Compared to last year: -2.4005053695514844%\n"
     ]
    }
   ],
   "source": [
    "total_orders_2023 = sales_delivered_2023['order_id'].nunique()\n",
    "total_orders_2022 = sales_delivered_2022['order_id'].nunique()\n",
    "\n",
    "print(f\"Compared to last year: {100*(total_orders_2023 - total_orders_2022)/(total_orders_2022)}%\")"
   ]
  },
  {
   "cell_type": "code",
   "execution_count": 40,
   "id": "67fb7156-9338-4862-b68c-36812cd725bf",
   "metadata": {},
   "outputs": [],
   "source": [
    "# revenue trend in the last 12 months"
   ]
  },
  {
   "cell_type": "code",
   "execution_count": 41,
   "id": "19993df3-755d-4068-9c8a-7ed31289efb1",
   "metadata": {},
   "outputs": [
    {
     "data": {
      "text/plain": [
       "<Axes: xlabel='month'>"
      ]
     },
     "execution_count": 41,
     "metadata": {},
     "output_type": "execute_result"
    },
    {
     "data": {
      "image/png": "[encoded data removed]",
      "text/plain": [
       "<Figure size 640x480 with 1 Axes>"
      ]
     },
     "metadata": {},
     "output_type": "display_data"
    }
   ],
   "source": [
    "sales_delivered_2023.groupby(['year', 'month'])['price'].sum().reset_index().plot(x='month', y='price')"
   ]
  },
  {
   "cell_type": "code",
   "execution_count": 42,
   "id": "3e6031b6-331f-44ed-bdf7-120b335eb06d",
   "metadata": {},
   "outputs": [],
   "source": [
    "# top product categories in the last 12 months"
   ]
  },
  {
   "cell_type": "code",
   "execution_count": 43,
   "id": "ae6870e5-d106-4cf3-9194-046dacb54716",
   "metadata": {},
   "outputs": [
    {
     "data": {
      "text/html": [
       "<div>\n",
       "<style scoped>\n",
       "    .dataframe tbody tr th:only-of-type {\n",
       "        vertical-align: middle;\n",
       "    }\n",
       "\n",
       "    .dataframe tbody tr th {\n",
       "        vertical-align: top;\n",
       "    }\n",
       "\n",
       "    .dataframe thead th {\n",
       "        text-align: right;\n",
       "    }\n",
       "</style>\n",
       "<table border=\"1\" class=\"dataframe\">\n",
       "  <thead>\n",
       "    <tr style=\"text-align: right;\">\n",
       "      <th></th>\n",
       "      <th>product_id</th>\n",
       "      <th>product_category_name</th>\n",
       "      <th>product_name_length</th>\n",
       "      <th>product_description_length</th>\n",
       "      <th>product_photos_qty</th>\n",
       "      <th>product_weight_g</th>\n",
       "      <th>product_length_cm</th>\n",
       "      <th>product_height_cm</th>\n",
       "      <th>product_width_cm</th>\n",
       "    </tr>\n",
       "  </thead>\n",
       "  <tbody>\n",
       "    <tr>\n",
       "      <th>0</th>\n",
       "      <td>prod_0702c614047dcf15e4cf9ee5</td>\n",
       "      <td>books_media</td>\n",
       "      <td>8</td>\n",
       "      <td>667</td>\n",
       "      <td>1</td>\n",
       "      <td>569</td>\n",
       "      <td>52</td>\n",
       "      <td>27</td>\n",
       "      <td>33</td>\n",
       "    </tr>\n",
       "    <tr>\n",
       "      <th>1</th>\n",
       "      <td>prod_232861afeeb9a9bea4e49bfb</td>\n",
       "      <td>grocery_gourmet_food</td>\n",
       "      <td>3</td>\n",
       "      <td>1095</td>\n",
       "      <td>9</td>\n",
       "      <td>4364</td>\n",
       "      <td>20</td>\n",
       "      <td>35</td>\n",
       "      <td>50</td>\n",
       "    </tr>\n",
       "  </tbody>\n",
       "</table>\n",
       "</div>"
      ],
      "text/plain": [
       "                      product_id product_category_name  product_name_length  \\\n",
       "0  prod_0702c614047dcf15e4cf9ee5           books_media                    8   \n",
       "1  prod_232861afeeb9a9bea4e49bfb  grocery_gourmet_food                    3   \n",
       "\n",
       "   product_description_length  product_photos_qty  product_weight_g  \\\n",
       "0                         667                   1               569   \n",
       "1                        1095                   9              4364   \n",
       "\n",
       "   product_length_cm  product_height_cm  product_width_cm  \n",
       "0                 52                 27                33  \n",
       "1                 20                 35                50  "
      ]
     },
     "execution_count": 43,
     "metadata": {},
     "output_type": "execute_result"
    }
   ],
   "source": [
    "products.head(2)"
   ]
  },
  {
   "cell_type": "code",
   "execution_count": 44,
   "id": "e3733852-4964-4697-a971-61e0704a6da6",
   "metadata": {},
   "outputs": [
    {
     "data": {
      "text/html": [
       "<div>\n",
       "<style scoped>\n",
       "    .dataframe tbody tr th:only-of-type {\n",
       "        vertical-align: middle;\n",
       "    }\n",
       "\n",
       "    .dataframe tbody tr th {\n",
       "        vertical-align: top;\n",
       "    }\n",
       "\n",
       "    .dataframe thead th {\n",
       "        text-align: right;\n",
       "    }\n",
       "</style>\n",
       "<table border=\"1\" class=\"dataframe\">\n",
       "  <thead>\n",
       "    <tr style=\"text-align: right;\">\n",
       "      <th></th>\n",
       "      <th>order_id</th>\n",
       "      <th>order_item_id</th>\n",
       "      <th>product_id</th>\n",
       "      <th>price</th>\n",
       "      <th>order_status</th>\n",
       "      <th>order_purchase_timestamp</th>\n",
       "      <th>order_delivered_customer_date</th>\n",
       "      <th>month</th>\n",
       "      <th>year</th>\n",
       "    </tr>\n",
       "  </thead>\n",
       "  <tbody>\n",
       "    <tr>\n",
       "      <th>2</th>\n",
       "      <td>ord_5fa044951857e02fd1347b47</td>\n",
       "      <td>1</td>\n",
       "      <td>prod_9b6f1793388ae983f852d189</td>\n",
       "      <td>111.91</td>\n",
       "      <td>delivered</td>\n",
       "      <td>2023-04-24 13:05:32.579655</td>\n",
       "      <td>2023-05-01 02:05:32.579655</td>\n",
       "      <td>4</td>\n",
       "      <td>2023</td>\n",
       "    </tr>\n",
       "    <tr>\n",
       "      <th>3</th>\n",
       "      <td>ord_5fa044951857e02fd1347b47</td>\n",
       "      <td>2</td>\n",
       "      <td>prod_c7b5997a4d0061a9f50e874c</td>\n",
       "      <td>878.42</td>\n",
       "      <td>delivered</td>\n",
       "      <td>2023-04-24 13:05:32.579655</td>\n",
       "      <td>2023-05-01 02:05:32.579655</td>\n",
       "      <td>4</td>\n",
       "      <td>2023</td>\n",
       "    </tr>\n",
       "  </tbody>\n",
       "</table>\n",
       "</div>"
      ],
      "text/plain": [
       "                       order_id  order_item_id                     product_id  \\\n",
       "2  ord_5fa044951857e02fd1347b47              1  prod_9b6f1793388ae983f852d189   \n",
       "3  ord_5fa044951857e02fd1347b47              2  prod_c7b5997a4d0061a9f50e874c   \n",
       "\n",
       "    price order_status   order_purchase_timestamp  \\\n",
       "2  111.91    delivered 2023-04-24 13:05:32.579655   \n",
       "3  878.42    delivered 2023-04-24 13:05:32.579655   \n",
       "\n",
       "  order_delivered_customer_date  month  year  \n",
       "2    2023-05-01 02:05:32.579655      4  2023  \n",
       "3    2023-05-01 02:05:32.579655      4  2023  "
      ]
     },
     "execution_count": 44,
     "metadata": {},
     "output_type": "execute_result"
    }
   ],
   "source": [
    "sales_delivered_2023.head(2)"
   ]
  },
  {
   "cell_type": "code",
   "execution_count": 45,
   "id": "10a49dfe-da71-4bea-9976-880430d3cdcc",
   "metadata": {},
   "outputs": [],
   "source": [
    "sales_categories_2023 = pd.merge(left=products[['product_id', 'product_category_name']],\n",
    "        right=sales_delivered_2023[['product_id', 'price']])"
   ]
  },
  {
   "cell_type": "code",
   "execution_count": 46,
   "id": "ab17d97a-3e60-4c6f-9195-34d6434ff790",
   "metadata": {},
   "outputs": [],
   "source": [
    "product_sales = sales_categories_2023.groupby('product_category_name')['price'].sum().sort_values(ascending=False)"
   ]
  },
  {
   "cell_type": "code",
   "execution_count": 47,
   "id": "f38f30d6-1912-432e-9d41-5c53c62b1afa",
   "metadata": {},
   "outputs": [
    {
     "data": {
      "text/plain": [
       "<Axes: xlabel='product_category_name'>"
      ]
     },
     "execution_count": 47,
     "metadata": {},
     "output_type": "execute_result"
    },
    {
     "data": {
      "image/png": "[encoded data removed]",
      "text/plain": [
       "<Figure size 640x480 with 1 Axes>"
      ]
     },
     "metadata": {},
     "output_type": "display_data"
    }
   ],
   "source": [
    "product_sales.plot(kind='bar')"
   ]
  },
  {
   "cell_type": "code",
   "execution_count": 48,
   "id": "04467b4a-c1f8-4f75-adfb-5a64cf72a707",
   "metadata": {},
   "outputs": [],
   "source": [
    "#sales by state in the last 12 months"
   ]
  },
  {
   "cell_type": "code",
   "execution_count": 49,
   "id": "2af935b5-202f-4c48-8a1f-ce6b40aeb18f",
   "metadata": {},
   "outputs": [
    {
     "data": {
      "text/html": [
       "<div>\n",
       "<style scoped>\n",
       "    .dataframe tbody tr th:only-of-type {\n",
       "        vertical-align: middle;\n",
       "    }\n",
       "\n",
       "    .dataframe tbody tr th {\n",
       "        vertical-align: top;\n",
       "    }\n",
       "\n",
       "    .dataframe thead th {\n",
       "        text-align: right;\n",
       "    }\n",
       "</style>\n",
       "<table border=\"1\" class=\"dataframe\">\n",
       "  <thead>\n",
       "    <tr style=\"text-align: right;\">\n",
       "      <th></th>\n",
       "      <th>order_id</th>\n",
       "      <th>order_item_id</th>\n",
       "      <th>product_id</th>\n",
       "      <th>price</th>\n",
       "      <th>order_status</th>\n",
       "      <th>order_purchase_timestamp</th>\n",
       "      <th>order_delivered_customer_date</th>\n",
       "      <th>month</th>\n",
       "      <th>year</th>\n",
       "    </tr>\n",
       "  </thead>\n",
       "  <tbody>\n",
       "    <tr>\n",
       "      <th>2</th>\n",
       "      <td>ord_5fa044951857e02fd1347b47</td>\n",
       "      <td>1</td>\n",
       "      <td>prod_9b6f1793388ae983f852d189</td>\n",
       "      <td>111.91</td>\n",
       "      <td>delivered</td>\n",
       "      <td>2023-04-24 13:05:32.579655</td>\n",
       "      <td>2023-05-01 02:05:32.579655</td>\n",
       "      <td>4</td>\n",
       "      <td>2023</td>\n",
       "    </tr>\n",
       "    <tr>\n",
       "      <th>3</th>\n",
       "      <td>ord_5fa044951857e02fd1347b47</td>\n",
       "      <td>2</td>\n",
       "      <td>prod_c7b5997a4d0061a9f50e874c</td>\n",
       "      <td>878.42</td>\n",
       "      <td>delivered</td>\n",
       "      <td>2023-04-24 13:05:32.579655</td>\n",
       "      <td>2023-05-01 02:05:32.579655</td>\n",
       "      <td>4</td>\n",
       "      <td>2023</td>\n",
       "    </tr>\n",
       "  </tbody>\n",
       "</table>\n",
       "</div>"
      ],
      "text/plain": [
       "                       order_id  order_item_id                     product_id  \\\n",
       "2  ord_5fa044951857e02fd1347b47              1  prod_9b6f1793388ae983f852d189   \n",
       "3  ord_5fa044951857e02fd1347b47              2  prod_c7b5997a4d0061a9f50e874c   \n",
       "\n",
       "    price order_status   order_purchase_timestamp  \\\n",
       "2  111.91    delivered 2023-04-24 13:05:32.579655   \n",
       "3  878.42    delivered 2023-04-24 13:05:32.579655   \n",
       "\n",
       "  order_delivered_customer_date  month  year  \n",
       "2    2023-05-01 02:05:32.579655      4  2023  \n",
       "3    2023-05-01 02:05:32.579655      4  2023  "
      ]
     },
     "execution_count": 49,
     "metadata": {},
     "output_type": "execute_result"
    }
   ],
   "source": [
    "sales_delivered_2023.head(2)"
   ]
  },
  {
   "cell_type": "code",
   "execution_count": 50,
   "id": "bc5ad0db-f75b-49b4-acb5-0a18bb7345e4",
   "metadata": {},
   "outputs": [
    {
     "data": {
      "text/html": [
       "<div>\n",
       "<style scoped>\n",
       "    .dataframe tbody tr th:only-of-type {\n",
       "        vertical-align: middle;\n",
       "    }\n",
       "\n",
       "    .dataframe tbody tr th {\n",
       "        vertical-align: top;\n",
       "    }\n",
       "\n",
       "    .dataframe thead th {\n",
       "        text-align: right;\n",
       "    }\n",
       "</style>\n",
       "<table border=\"1\" class=\"dataframe\">\n",
       "  <thead>\n",
       "    <tr style=\"text-align: right;\">\n",
       "      <th></th>\n",
       "      <th>order_id</th>\n",
       "      <th>customer_id</th>\n",
       "      <th>order_status</th>\n",
       "      <th>order_purchase_timestamp</th>\n",
       "      <th>order_approved_at</th>\n",
       "      <th>order_delivered_carrier_date</th>\n",
       "      <th>order_delivered_customer_date</th>\n",
       "      <th>order_estimated_delivery_date</th>\n",
       "    </tr>\n",
       "  </thead>\n",
       "  <tbody>\n",
       "    <tr>\n",
       "      <th>0</th>\n",
       "      <td>ord_d25ca0e820f231046c70dd33</td>\n",
       "      <td>cust_d6ec876eea63d04ced06e168</td>\n",
       "      <td>canceled</td>\n",
       "      <td>2023-04-24 12:18:14.590086</td>\n",
       "      <td>2023-04-25 00:18:14.590086</td>\n",
       "      <td>NaN</td>\n",
       "      <td>NaN</td>\n",
       "      <td>2023-05-02 00:18:14.590086</td>\n",
       "    </tr>\n",
       "    <tr>\n",
       "      <th>1</th>\n",
       "      <td>ord_5fa044951857e02fd1347b47</td>\n",
       "      <td>cust_2d36e4b647be13c15df550af</td>\n",
       "      <td>delivered</td>\n",
       "      <td>2023-04-24 13:05:32.579655</td>\n",
       "      <td>2023-04-26 02:05:32.579655</td>\n",
       "      <td>2023-04-27 02:05:32.579655</td>\n",
       "      <td>2023-05-01 02:05:32.579655</td>\n",
       "      <td>2023-05-11 02:05:32.579655</td>\n",
       "    </tr>\n",
       "  </tbody>\n",
       "</table>\n",
       "</div>"
      ],
      "text/plain": [
       "                       order_id                    customer_id order_status  \\\n",
       "0  ord_d25ca0e820f231046c70dd33  cust_d6ec876eea63d04ced06e168     canceled   \n",
       "1  ord_5fa044951857e02fd1347b47  cust_2d36e4b647be13c15df550af    delivered   \n",
       "\n",
       "     order_purchase_timestamp           order_approved_at  \\\n",
       "0  2023-04-24 12:18:14.590086  2023-04-25 00:18:14.590086   \n",
       "1  2023-04-24 13:05:32.579655  2023-04-26 02:05:32.579655   \n",
       "\n",
       "  order_delivered_carrier_date order_delivered_customer_date  \\\n",
       "0                          NaN                           NaN   \n",
       "1   2023-04-27 02:05:32.579655    2023-05-01 02:05:32.579655   \n",
       "\n",
       "  order_estimated_delivery_date  \n",
       "0    2023-05-02 00:18:14.590086  \n",
       "1    2023-05-11 02:05:32.579655  "
      ]
     },
     "execution_count": 50,
     "metadata": {},
     "output_type": "execute_result"
    }
   ],
   "source": [
    "orders.head(2)"
   ]
  },
  {
   "cell_type": "code",
   "execution_count": 51,
   "id": "318866ff-6ac7-4158-9635-7bb1783d8559",
   "metadata": {},
   "outputs": [
    {
     "data": {
      "text/html": [
       "<div>\n",
       "<style scoped>\n",
       "    .dataframe tbody tr th:only-of-type {\n",
       "        vertical-align: middle;\n",
       "    }\n",
       "\n",
       "    .dataframe tbody tr th {\n",
       "        vertical-align: top;\n",
       "    }\n",
       "\n",
       "    .dataframe thead th {\n",
       "        text-align: right;\n",
       "    }\n",
       "</style>\n",
       "<table border=\"1\" class=\"dataframe\">\n",
       "  <thead>\n",
       "    <tr style=\"text-align: right;\">\n",
       "      <th></th>\n",
       "      <th>customer_id</th>\n",
       "      <th>customer_unique_id</th>\n",
       "      <th>customer_zip_code_prefix</th>\n",
       "      <th>customer_city</th>\n",
       "      <th>customer_state</th>\n",
       "    </tr>\n",
       "  </thead>\n",
       "  <tbody>\n",
       "    <tr>\n",
       "      <th>0</th>\n",
       "      <td>cust_81424b9dca2daa2e7c09c774</td>\n",
       "      <td>uniq_867c223b2af832eb6af2d087</td>\n",
       "      <td>93810</td>\n",
       "      <td>Sterling Heights</td>\n",
       "      <td>MI</td>\n",
       "    </tr>\n",
       "    <tr>\n",
       "      <th>1</th>\n",
       "      <td>cust_8f60935fb64a4a334ec14b66</td>\n",
       "      <td>uniq_886c28efca21281f6a4ab34c</td>\n",
       "      <td>24592</td>\n",
       "      <td>Edison</td>\n",
       "      <td>NJ</td>\n",
       "    </tr>\n",
       "  </tbody>\n",
       "</table>\n",
       "</div>"
      ],
      "text/plain": [
       "                     customer_id             customer_unique_id  \\\n",
       "0  cust_81424b9dca2daa2e7c09c774  uniq_867c223b2af832eb6af2d087   \n",
       "1  cust_8f60935fb64a4a334ec14b66  uniq_886c28efca21281f6a4ab34c   \n",
       "\n",
       "   customer_zip_code_prefix     customer_city customer_state  \n",
       "0                     93810  Sterling Heights             MI  \n",
       "1                     24592            Edison             NJ  "
      ]
     },
     "execution_count": 51,
     "metadata": {},
     "output_type": "execute_result"
    }
   ],
   "source": [
    "customers.head(2)"
   ]
  },
  {
   "cell_type": "code",
   "execution_count": 52,
   "id": "d63d8bc9-4acb-4420-aa4a-d260ae3c488e",
   "metadata": {},
   "outputs": [],
   "source": [
    "sales_2023_customers = pd.merge(left= sales_delivered_2023[['order_id', 'price']],\n",
    "         right= orders[['order_id', 'customer_id']])"
   ]
  },
  {
   "cell_type": "code",
   "execution_count": 53,
   "id": "7e128953-b6a5-4fb5-b687-54e0dce66732",
   "metadata": {},
   "outputs": [],
   "source": [
    "sales_states_2023 = pd.merge(left = sales_2023_customers, right=customers[['customer_id', 'customer_state']])"
   ]
  },
  {
   "cell_type": "code",
   "execution_count": 54,
   "id": "aa1d38cd-946e-45c2-a668-0b129e0d4d53",
   "metadata": {},
   "outputs": [],
   "source": [
    "sales_states_2023 = sales_states_2023.groupby('customer_state')['price'].sum().sort_values(ascending=False)"
   ]
  },
  {
   "cell_type": "code",
   "execution_count": 55,
   "id": "be65c04c-a85c-48c5-854c-49246db931be",
   "metadata": {},
   "outputs": [],
   "source": [
    "sales_states_2023 = sales_states_2023.reset_index()"
   ]
  },
  {
   "cell_type": "code",
   "execution_count": 56,
   "id": "6a73583b-2d18-41bf-ba79-48422aeb79b1",
   "metadata": {},
   "outputs": [
    {
     "data": {
      "application/vnd.plotly.v1+json": {
       "config": {
        "plotlyServerURL": "https://plot.ly"
       },
       "data": [
        {
         "coloraxis": "coloraxis",
         "geo": "geo",
         "hovertemplate": "customer_state=%{location}<br>price=%{z}<extra></extra>",
         "locationmode": "USA-states",
         "locations": [
          "CA",
          "TX",
          "FL",
          "NY",
          "IL",
          "PA",
          "OH",
          "GA",
          "MI",
          "NC",
          "NJ",
          "VA",
          "MA",
          "AZ",
          "WA",
          "MD",
          "IN",
          "MO",
          "WI",
          "TN"
         ],
         "name": "",
         "type": "choropleth",
         "z": {
          "bdata": "rkfhejFqIEFcj8L1nZ0YQcP1KFzP7hJBzczMzL7lDkHrUbgeV7IGQQrXo3BlJgVBKVyPwp09A0EzMzMzdd8BQc3MzMwsJwBBcT0K16tT/0Bcj8L12Bz/QHE9CtePsflASOF6FHIs+UBmZmZm0nD4QIXrUbiqOfdAFa5H4TYp9UAUrkfh2hD1QDMzMzOzr/JA9ihcjx6E8kDsUbgezXLyQA==",
          "dtype": "f8"
         }
        }
       ],
       "layout": {
        "coloraxis": {
         "colorbar": {
          "title": {
           "text": "price"
          }
         },
         "colorscale": [
          [
           0,
           "rgb(255,245,240)"
          ],
          [
           0.125,
           "rgb(254,224,210)"
          ],
          [
           0.25,
           "rgb(252,187,161)"
          ],
          [
           0.375,
           "rgb(252,146,114)"
          ],
          [
           0.5,
           "rgb(251,106,74)"
          ],
          [
           0.625,
           "rgb(239,59,44)"
          ],
          [
           0.75,
           "rgb(203,24,29)"
          ],
          [
           0.875,
           "rgb(165,15,21)"
          ],
          [
           1,
           "rgb(103,0,13)"
          ]
         ]
        },
        "geo": {
         "center": {},
         "domain": {
          "x": [
           0,
           1
          ],
          "y": [
           0,
           1
          ]
         },
         "scope": "usa"
        },
        "legend": {
         "tracegroupgap": 0
        },
        "template": {
         "data": {
          "bar": [
           {
            "error_x": {
             "color": "#2a3f5f"
            },
            "error_y": {
             "color": "#2a3f5f"
            },
            "marker": {
             "line": {
              "color": "#E5ECF6",
              "width": 0.5
             },
             "pattern": {
              "fillmode": "overlay",
              "size": 10,
              "solidity": 0.2
             }
            },
            "type": "bar"
           }
          ],
          "barpolar": [
           {
            "marker": {
             "line": {
              "color": "#E5ECF6",
              "width": 0.5
             },
             "pattern": {
              "fillmode": "overlay",
              "size": 10,
              "solidity": 0.2
             }
            },
            "type": "barpolar"
           }
          ],
          "carpet": [
           {
            "aaxis": {
             "endlinecolor": "#2a3f5f",
             "gridcolor": "white",
             "linecolor": "white",
             "minorgridcolor": "white",
             "startlinecolor": "#2a3f5f"
            },
            "baxis": {
             "endlinecolor": "#2a3f5f",
             "gridcolor": "white",
             "linecolor": "white",
             "minorgridcolor": "white",
             "startlinecolor": "#2a3f5f"
            },
            "type": "carpet"
           }
          ],
          "choropleth": [
           {
            "colorbar": {
             "outlinewidth": 0,
             "ticks": ""
            },
            "type": "choropleth"
           }
          ],
          "contour": [
           {
            "colorbar": {
             "outlinewidth": 0,
             "ticks": ""
            },
            "colorscale": [
             [
              0,
              "#0d0887"
             ],
             [
              0.1111111111111111,
              "#46039f"
             ],
             [
              0.2222222222222222,
              "#7201a8"
             ],
             [
              0.3333333333333333,
              "#9c179e"
             ],
             [
              0.4444444444444444,
              "#bd3786"
             ],
             [
              0.5555555555555556,
              "#d8576b"
             ],
             [
              0.6666666666666666,
              "#ed7953"
             ],
             [
              0.7777777777777778,
              "#fb9f3a"
             ],
             [
              0.8888888888888888,
              "#fdca26"
             ],
             [
              1,
              "#f0f921"
             ]
            ],
            "type": "contour"
           }
          ],
          "contourcarpet": [
           {
            "colorbar": {
             "outlinewidth": 0,
             "ticks": ""
            },
            "type": "contourcarpet"
           }
          ],
          "heatmap": [
           {
            "colorbar": {
             "outlinewidth": 0,
             "ticks": ""
            },
            "colorscale": [
             [
              0,
              "#0d0887"
             ],
             [
              0.1111111111111111,
              "#46039f"
             ],
             [
              0.2222222222222222,
              "#7201a8"
             ],
             [
              0.3333333333333333,
              "#9c179e"
             ],
             [
              0.4444444444444444,
              "#bd3786"
             ],
             [
              0.5555555555555556,
              "#d8576b"
             ],
             [
              0.6666666666666666,
              "#ed7953"
             ],
             [
              0.7777777777777778,
              "#fb9f3a"
             ],
             [
              0.8888888888888888,
              "#fdca26"
             ],
             [
              1,
              "#f0f921"
             ]
            ],
            "type": "heatmap"
           }
          ],
          "histogram": [
           {
            "marker": {
             "pattern": {
              "fillmode": "overlay",
              "size": 10,
              "solidity": 0.2
             }
            },
            "type": "histogram"
           }
          ],
          "histogram2d": [
           {
            "colorbar": {
             "outlinewidth": 0,
             "ticks": ""
            },
            "colorscale": [
             [
              0,
              "#0d0887"
             ],
             [
              0.1111111111111111,
              "#46039f"
             ],
             [
              0.2222222222222222,
              "#7201a8"
             ],
             [
              0.3333333333333333,
              "#9c179e"
             ],
             [
              0.4444444444444444,
              "#bd3786"
             ],
             [
              0.5555555555555556,
              "#d8576b"
             ],
             [
              0.6666666666666666,
              "#ed7953"
             ],
             [
              0.7777777777777778,
              "#fb9f3a"
             ],
             [
              0.8888888888888888,
              "#fdca26"
             ],
             [
              1,
              "#f0f921"
             ]
            ],
            "type": "histogram2d"
           }
          ],
          "histogram2dcontour": [
           {
            "colorbar": {
             "outlinewidth": 0,
             "ticks": ""
            },
            "colorscale": [
             [
              0,
              "#0d0887"
             ],
             [
              0.1111111111111111,
              "#46039f"
             ],
             [
              0.2222222222222222,
              "#7201a8"
             ],
             [
              0.3333333333333333,
              "#9c179e"
             ],
             [
              0.4444444444444444,
              "#bd3786"
             ],
             [
              0.5555555555555556,
              "#d8576b"
             ],
             [
              0.6666666666666666,
              "#ed7953"
             ],
             [
              0.7777777777777778,
              "#fb9f3a"
             ],
             [
              0.8888888888888888,
              "#fdca26"
             ],
             [
              1,
              "#f0f921"
             ]
            ],
            "type": "histogram2dcontour"
           }
          ],
          "mesh3d": [
           {
            "colorbar": {
             "outlinewidth": 0,
             "ticks": ""
            },
            "type": "mesh3d"
           }
          ],
          "parcoords": [
           {
            "line": {
             "colorbar": {
              "outlinewidth": 0,
              "ticks": ""
             }
            },
            "type": "parcoords"
           }
          ],
          "pie": [
           {
            "automargin": true,
            "type": "pie"
           }
          ],
          "scatter": [
           {
            "fillpattern": {
             "fillmode": "overlay",
             "size": 10,
             "solidity": 0.2
            },
            "type": "scatter"
           }
          ],
          "scatter3d": [
           {
            "line": {
             "colorbar": {
              "outlinewidth": 0,
              "ticks": ""
             }
            },
            "marker": {
             "colorbar": {
              "outlinewidth": 0,
              "ticks": ""
             }
            },
            "type": "scatter3d"
           }
          ],
          "scattercarpet": [
           {
            "marker": {
             "colorbar": {
              "outlinewidth": 0,
              "ticks": ""
             }
            },
            "type": "scattercarpet"
           }
          ],
          "scattergeo": [
           {
            "marker": {
             "colorbar": {
              "outlinewidth": 0,
              "ticks": ""
             }
            },
            "type": "scattergeo"
           }
          ],
          "scattergl": [
           {
            "marker": {
             "colorbar": {
              "outlinewidth": 0,
              "ticks": ""
             }
            },
            "type": "scattergl"
           }
          ],
          "scattermap": [
           {
            "marker": {
             "colorbar": {
              "outlinewidth": 0,
              "ticks": ""
             }
            },
            "type": "scattermap"
           }
          ],
          "scattermapbox": [
           {
            "marker": {
             "colorbar": {
              "outlinewidth": 0,
              "ticks": ""
             }
            },
            "type": "scattermapbox"
           }
          ],
          "scatterpolar": [
           {
            "marker": {
             "colorbar": {
              "outlinewidth": 0,
              "ticks": ""
             }
            },
            "type": "scatterpolar"
           }
          ],
          "scatterpolargl": [
           {
            "marker": {
             "colorbar": {
              "outlinewidth": 0,
              "ticks": ""
             }
            },
            "type": "scatterpolargl"
           }
          ],
          "scatterternary": [
           {
            "marker": {
             "colorbar": {
              "outlinewidth": 0,
              "ticks": ""
             }
            },
            "type": "scatterternary"
           }
          ],
          "surface": [
           {
            "colorbar": {
             "outlinewidth": 0,
             "ticks": ""
            },
            "colorscale": [
             [
              0,
              "#0d0887"
             ],
             [
              0.1111111111111111,
              "#46039f"
             ],
             [
              0.2222222222222222,
              "#7201a8"
             ],
             [
              0.3333333333333333,
              "#9c179e"
             ],
             [
              0.4444444444444444,
              "#bd3786"
             ],
             [
              0.5555555555555556,
              "#d8576b"
             ],
             [
              0.6666666666666666,
              "#ed7953"
             ],
             [
              0.7777777777777778,
              "#fb9f3a"
             ],
             [
              0.8888888888888888,
              "#fdca26"
             ],
             [
              1,
              "#f0f921"
             ]
            ],
            "type": "surface"
           }
          ],
          "table": [
           {
            "cells": {
             "fill": {
              "color": "#EBF0F8"
             },
             "line": {
              "color": "white"
             }
            },
            "header": {
             "fill": {
              "color": "#C8D4E3"
             },
             "line": {
              "color": "white"
             }
            },
            "type": "table"
           }
          ]
         },
         "layout": {
          "annotationdefaults": {
           "arrowcolor": "#2a3f5f",
           "arrowhead": 0,
           "arrowwidth": 1
          },
          "autotypenumbers": "strict",
          "coloraxis": {
           "colorbar": {
            "outlinewidth": 0,
            "ticks": ""
           }
          },
          "colorscale": {
           "diverging": [
            [
             0,
             "#8e0152"
            ],
            [
             0.1,
             "#c51b7d"
            ],
            [
             0.2,
             "#de77ae"
            ],
            [
             0.3,
             "#f1b6da"
            ],
            [
             0.4,
             "#fde0ef"
            ],
            [
             0.5,
             "#f7f7f7"
            ],
            [
             0.6,
             "#e6f5d0"
            ],
            [
             0.7,
             "#b8e186"
            ],
            [
             0.8,
             "#7fbc41"
            ],
            [
             0.9,
             "#4d9221"
            ],
            [
             1,
             "#276419"
            ]
           ],
           "sequential": [
            [
             0,
             "#0d0887"
            ],
            [
             0.1111111111111111,
             "#46039f"
            ],
            [
             0.2222222222222222,
             "#7201a8"
            ],
            [
             0.3333333333333333,
             "#9c179e"
            ],
            [
             0.4444444444444444,
             "#bd3786"
            ],
            [
             0.5555555555555556,
             "#d8576b"
            ],
            [
             0.6666666666666666,
             "#ed7953"
            ],
            [
             0.7777777777777778,
             "#fb9f3a"
            ],
            [
             0.8888888888888888,
             "#fdca26"
            ],
            [
             1,
             "#f0f921"
            ]
           ],
           "sequentialminus": [
            [
             0,
             "#0d0887"
            ],
            [
             0.1111111111111111,
             "#46039f"
            ],
            [
             0.2222222222222222,
             "#7201a8"
            ],
            [
             0.3333333333333333,
             "#9c179e"
            ],
            [
             0.4444444444444444,
             "#bd3786"
            ],
            [
             0.5555555555555556,
             "#d8576b"
            ],
            [
             0.6666666666666666,
             "#ed7953"
            ],
            [
             0.7777777777777778,
             "#fb9f3a"
            ],
            [
             0.8888888888888888,
             "#fdca26"
            ],
            [
             1,
             "#f0f921"
            ]
           ]
          },
          "colorway": [
           "#636efa",
           "#EF553B",
           "#00cc96",
           "#ab63fa",
           "#FFA15A",
           "#19d3f3",
           "#FF6692",
           "#B6E880",
           "#FF97FF",
           "#FECB52"
          ],
          "font": {
           "color": "#2a3f5f"
          },
          "geo": {
           "bgcolor": "white",
           "lakecolor": "white",
           "landcolor": "#E5ECF6",
           "showlakes": true,
           "showland": true,
           "subunitcolor": "white"
          },
          "hoverlabel": {
           "align": "left"
          },
          "hovermode": "closest",
          "mapbox": {
           "style": "light"
          },
          "paper_bgcolor": "white",
          "plot_bgcolor": "#E5ECF6",
          "polar": {
           "angularaxis": {
            "gridcolor": "white",
            "linecolor": "white",
            "ticks": ""
           },
           "bgcolor": "#E5ECF6",
           "radialaxis": {
            "gridcolor": "white",
            "linecolor": "white",
            "ticks": ""
           }
          },
          "scene": {
           "xaxis": {
            "backgroundcolor": "#E5ECF6",
            "gridcolor": "white",
            "gridwidth": 2,
            "linecolor": "white",
            "showbackground": true,
            "ticks": "",
            "zerolinecolor": "white"
           },
           "yaxis": {
            "backgroundcolor": "#E5ECF6",
            "gridcolor": "white",
            "gridwidth": 2,
            "linecolor": "white",
            "showbackground": true,
            "ticks": "",
            "zerolinecolor": "white"
           },
           "zaxis": {
            "backgroundcolor": "#E5ECF6",
            "gridcolor": "white",
            "gridwidth": 2,
            "linecolor": "white",
            "showbackground": true,
            "ticks": "",
            "zerolinecolor": "white"
           }
          },
          "shapedefaults": {
           "line": {
            "color": "#2a3f5f"
           }
          },
          "ternary": {
           "aaxis": {
            "gridcolor": "white",
            "linecolor": "white",
            "ticks": ""
           },
           "baxis": {
            "gridcolor": "white",
            "linecolor": "white",
            "ticks": ""
           },
           "bgcolor": "#E5ECF6",
           "caxis": {
            "gridcolor": "white",
            "linecolor": "white",
            "ticks": ""
           }
          },
          "title": {
           "x": 0.05
          },
          "xaxis": {
           "automargin": true,
           "gridcolor": "white",
           "linecolor": "white",
           "ticks": "",
           "title": {
            "standoff": 15
           },
           "zerolinecolor": "white",
           "zerolinewidth": 2
          },
          "yaxis": {
           "automargin": true,
           "gridcolor": "white",
           "linecolor": "white",
           "ticks": "",
           "title": {
            "standoff": 15
           },
           "zerolinecolor": "white",
           "zerolinewidth": 2
          }
         }
        },
        "title": {
         "text": "Revenue by State"
        }
       }
      }
     },
     "metadata": {},
     "output_type": "display_data"
    }
   ],
   "source": [
    "import plotly.express as px\n",
    "import pandas as pd\n",
    "\n",
    "# Create choropleth map\n",
    "fig = px.choropleth(\n",
    "    sales_states_2023,\n",
    "    locations='customer_state',\n",
    "    color='price',\n",
    "    locationmode='USA-states',\n",
    "    scope='usa',\n",
    "    title='Revenue by State',\n",
    "    color_continuous_scale='Reds'\n",
    ")\n",
    "\n",
    "fig.show()"
   ]
  },
  {
   "cell_type": "code",
   "execution_count": 57,
   "id": "00eb079a-79bb-4d7e-b760-bdcb4cccaaa5",
   "metadata": {},
   "outputs": [
    {
     "data": {
      "text/html": [
       "<div>\n",
       "<style scoped>\n",
       "    .dataframe tbody tr th:only-of-type {\n",
       "        vertical-align: middle;\n",
       "    }\n",
       "\n",
       "    .dataframe tbody tr th {\n",
       "        vertical-align: top;\n",
       "    }\n",
       "\n",
       "    .dataframe thead th {\n",
       "        text-align: right;\n",
       "    }\n",
       "</style>\n",
       "<table border=\"1\" class=\"dataframe\">\n",
       "  <thead>\n",
       "    <tr style=\"text-align: right;\">\n",
       "      <th></th>\n",
       "      <th>review_id</th>\n",
       "      <th>order_id</th>\n",
       "      <th>review_score</th>\n",
       "      <th>review_comment_title</th>\n",
       "      <th>review_comment_message</th>\n",
       "      <th>review_creation_date</th>\n",
       "      <th>review_answer_timestamp</th>\n",
       "    </tr>\n",
       "  </thead>\n",
       "  <tbody>\n",
       "    <tr>\n",
       "      <th>0</th>\n",
       "      <td>rev_cf66512d243a9c736611db79</td>\n",
       "      <td>ord_0351515bca881662bb2ed0f7</td>\n",
       "      <td>1</td>\n",
       "      <td>Could be better</td>\n",
       "      <td>NaN</td>\n",
       "      <td>2022-12-19 02:54:41.926280</td>\n",
       "      <td>2022-12-25 02:54:41.926280</td>\n",
       "    </tr>\n",
       "    <tr>\n",
       "      <th>1</th>\n",
       "      <td>rev_170b372335a392ab192feece</td>\n",
       "      <td>ord_e18ec5b12e17dd528787bc11</td>\n",
       "      <td>5</td>\n",
       "      <td>Fast shipping</td>\n",
       "      <td>NaN</td>\n",
       "      <td>2023-08-30 23:05:04.074035</td>\n",
       "      <td>NaN</td>\n",
       "    </tr>\n",
       "  </tbody>\n",
       "</table>\n",
       "</div>"
      ],
      "text/plain": [
       "                      review_id                      order_id  review_score  \\\n",
       "0  rev_cf66512d243a9c736611db79  ord_0351515bca881662bb2ed0f7             1   \n",
       "1  rev_170b372335a392ab192feece  ord_e18ec5b12e17dd528787bc11             5   \n",
       "\n",
       "  review_comment_title review_comment_message        review_creation_date  \\\n",
       "0      Could be better                    NaN  2022-12-19 02:54:41.926280   \n",
       "1        Fast shipping                    NaN  2023-08-30 23:05:04.074035   \n",
       "\n",
       "      review_answer_timestamp  \n",
       "0  2022-12-25 02:54:41.926280  \n",
       "1                         NaN  "
      ]
     },
     "execution_count": 57,
     "metadata": {},
     "output_type": "execute_result"
    }
   ],
   "source": [
    "reviews.head(2)"
   ]
  },
  {
   "cell_type": "code",
   "execution_count": 58,
   "id": "9d5936ed-b2c3-46aa-9f1c-50fa1cc63cf6",
   "metadata": {},
   "outputs": [
    {
     "data": {
      "text/html": [
       "<div>\n",
       "<style scoped>\n",
       "    .dataframe tbody tr th:only-of-type {\n",
       "        vertical-align: middle;\n",
       "    }\n",
       "\n",
       "    .dataframe tbody tr th {\n",
       "        vertical-align: top;\n",
       "    }\n",
       "\n",
       "    .dataframe thead th {\n",
       "        text-align: right;\n",
       "    }\n",
       "</style>\n",
       "<table border=\"1\" class=\"dataframe\">\n",
       "  <thead>\n",
       "    <tr style=\"text-align: right;\">\n",
       "      <th></th>\n",
       "      <th>order_id</th>\n",
       "      <th>order_item_id</th>\n",
       "      <th>product_id</th>\n",
       "      <th>price</th>\n",
       "      <th>order_status</th>\n",
       "      <th>order_purchase_timestamp</th>\n",
       "      <th>order_delivered_customer_date</th>\n",
       "      <th>month</th>\n",
       "      <th>year</th>\n",
       "    </tr>\n",
       "  </thead>\n",
       "  <tbody>\n",
       "    <tr>\n",
       "      <th>2</th>\n",
       "      <td>ord_5fa044951857e02fd1347b47</td>\n",
       "      <td>1</td>\n",
       "      <td>prod_9b6f1793388ae983f852d189</td>\n",
       "      <td>111.91</td>\n",
       "      <td>delivered</td>\n",
       "      <td>2023-04-24 13:05:32.579655</td>\n",
       "      <td>2023-05-01 02:05:32.579655</td>\n",
       "      <td>4</td>\n",
       "      <td>2023</td>\n",
       "    </tr>\n",
       "    <tr>\n",
       "      <th>3</th>\n",
       "      <td>ord_5fa044951857e02fd1347b47</td>\n",
       "      <td>2</td>\n",
       "      <td>prod_c7b5997a4d0061a9f50e874c</td>\n",
       "      <td>878.42</td>\n",
       "      <td>delivered</td>\n",
       "      <td>2023-04-24 13:05:32.579655</td>\n",
       "      <td>2023-05-01 02:05:32.579655</td>\n",
       "      <td>4</td>\n",
       "      <td>2023</td>\n",
       "    </tr>\n",
       "  </tbody>\n",
       "</table>\n",
       "</div>"
      ],
      "text/plain": [
       "                       order_id  order_item_id                     product_id  \\\n",
       "2  ord_5fa044951857e02fd1347b47              1  prod_9b6f1793388ae983f852d189   \n",
       "3  ord_5fa044951857e02fd1347b47              2  prod_c7b5997a4d0061a9f50e874c   \n",
       "\n",
       "    price order_status   order_purchase_timestamp  \\\n",
       "2  111.91    delivered 2023-04-24 13:05:32.579655   \n",
       "3  878.42    delivered 2023-04-24 13:05:32.579655   \n",
       "\n",
       "  order_delivered_customer_date  month  year  \n",
       "2    2023-05-01 02:05:32.579655      4  2023  \n",
       "3    2023-05-01 02:05:32.579655      4  2023  "
      ]
     },
     "execution_count": 58,
     "metadata": {},
     "output_type": "execute_result"
    }
   ],
   "source": [
    "sales_delivered_2023.head(2)"
   ]
  },
  {
   "cell_type": "code",
   "execution_count": 59,
   "id": "572d347d-28ce-4524-a8da-7e5d816935ab",
   "metadata": {},
   "outputs": [
    {
     "name": "stderr",
     "output_type": "stream",
     "text": [
      "/var/folders/y8/k58_4sk56z3b6zm12wnn099c0000gn/T/ipykernel_35223/286006904.py:1: SettingWithCopyWarning:\n",
      "\n",
      "\n",
      "A value is trying to be set on a copy of a slice from a DataFrame.\n",
      "Try using .loc[row_indexer,col_indexer] = value instead\n",
      "\n",
      "See the caveats in the documentation: https://pandas.pydata.org/pandas-docs/stable/user_guide/indexing.html#returning-a-view-versus-a-copy\n",
      "\n"
     ]
    }
   ],
   "source": [
    "sales_delivered_2023['order_delivered_customer_date'] = pd.to_datetime(sales_delivered_2023['order_delivered_customer_date'])"
   ]
  },
  {
   "cell_type": "code",
   "execution_count": 60,
   "id": "2e3f8d0a-b46f-4af1-af9e-c0bb2458eea7",
   "metadata": {},
   "outputs": [
    {
     "name": "stderr",
     "output_type": "stream",
     "text": [
      "/var/folders/y8/k58_4sk56z3b6zm12wnn099c0000gn/T/ipykernel_35223/588967048.py:1: SettingWithCopyWarning:\n",
      "\n",
      "\n",
      "A value is trying to be set on a copy of a slice from a DataFrame.\n",
      "Try using .loc[row_indexer,col_indexer] = value instead\n",
      "\n",
      "See the caveats in the documentation: https://pandas.pydata.org/pandas-docs/stable/user_guide/indexing.html#returning-a-view-versus-a-copy\n",
      "\n"
     ]
    }
   ],
   "source": [
    "sales_delivered_2023['delivery_speed'] = (sales_delivered_2023['order_delivered_customer_date']-sales_delivered_2023['order_purchase_timestamp']).apply(lambda t:t.days)"
   ]
  },
  {
   "cell_type": "code",
   "execution_count": 61,
   "id": "6487c20b-7aca-4910-9938-ca718532d6ef",
   "metadata": {},
   "outputs": [],
   "source": [
    "sales_delivered_2023 = sales_delivered_2023.merge(reviews[['order_id','review_score']])"
   ]
  },
  {
   "cell_type": "code",
   "execution_count": 62,
   "id": "072b5c6e-212d-4735-bac7-1c026356fd2e",
   "metadata": {},
   "outputs": [],
   "source": [
    "review_speed = sales_delivered_2023[['order_id', 'delivery_speed', 'review_score']].drop_duplicates()"
   ]
  },
  {
   "cell_type": "code",
   "execution_count": 63,
   "id": "1b89fbf0-4c63-4d78-af88-074bb82db843",
   "metadata": {},
   "outputs": [
    {
     "data": {
      "text/html": [
       "<div>\n",
       "<style scoped>\n",
       "    .dataframe tbody tr th:only-of-type {\n",
       "        vertical-align: middle;\n",
       "    }\n",
       "\n",
       "    .dataframe tbody tr th {\n",
       "        vertical-align: top;\n",
       "    }\n",
       "\n",
       "    .dataframe thead th {\n",
       "        text-align: right;\n",
       "    }\n",
       "</style>\n",
       "<table border=\"1\" class=\"dataframe\">\n",
       "  <thead>\n",
       "    <tr style=\"text-align: right;\">\n",
       "      <th></th>\n",
       "      <th>delivery_speed</th>\n",
       "      <th>review_score</th>\n",
       "    </tr>\n",
       "  </thead>\n",
       "  <tbody>\n",
       "    <tr>\n",
       "      <th>0</th>\n",
       "      <td>2</td>\n",
       "      <td>4.033898</td>\n",
       "    </tr>\n",
       "    <tr>\n",
       "      <th>1</th>\n",
       "      <td>3</td>\n",
       "      <td>4.248555</td>\n",
       "    </tr>\n",
       "    <tr>\n",
       "      <th>2</th>\n",
       "      <td>4</td>\n",
       "      <td>4.068000</td>\n",
       "    </tr>\n",
       "    <tr>\n",
       "      <th>3</th>\n",
       "      <td>5</td>\n",
       "      <td>4.054054</td>\n",
       "    </tr>\n",
       "    <tr>\n",
       "      <th>4</th>\n",
       "      <td>6</td>\n",
       "      <td>4.073529</td>\n",
       "    </tr>\n",
       "    <tr>\n",
       "      <th>5</th>\n",
       "      <td>7</td>\n",
       "      <td>4.102236</td>\n",
       "    </tr>\n",
       "    <tr>\n",
       "      <th>6</th>\n",
       "      <td>8</td>\n",
       "      <td>3.965418</td>\n",
       "    </tr>\n",
       "    <tr>\n",
       "      <th>7</th>\n",
       "      <td>9</td>\n",
       "      <td>4.117470</td>\n",
       "    </tr>\n",
       "    <tr>\n",
       "      <th>8</th>\n",
       "      <td>10</td>\n",
       "      <td>4.100917</td>\n",
       "    </tr>\n",
       "    <tr>\n",
       "      <th>9</th>\n",
       "      <td>11</td>\n",
       "      <td>4.146580</td>\n",
       "    </tr>\n",
       "    <tr>\n",
       "      <th>10</th>\n",
       "      <td>12</td>\n",
       "      <td>4.252066</td>\n",
       "    </tr>\n",
       "    <tr>\n",
       "      <th>11</th>\n",
       "      <td>13</td>\n",
       "      <td>4.099448</td>\n",
       "    </tr>\n",
       "    <tr>\n",
       "      <th>12</th>\n",
       "      <td>14</td>\n",
       "      <td>4.175439</td>\n",
       "    </tr>\n",
       "    <tr>\n",
       "      <th>13</th>\n",
       "      <td>15</td>\n",
       "      <td>4.000000</td>\n",
       "    </tr>\n",
       "  </tbody>\n",
       "</table>\n",
       "</div>"
      ],
      "text/plain": [
       "    delivery_speed  review_score\n",
       "0                2      4.033898\n",
       "1                3      4.248555\n",
       "2                4      4.068000\n",
       "3                5      4.054054\n",
       "4                6      4.073529\n",
       "5                7      4.102236\n",
       "6                8      3.965418\n",
       "7                9      4.117470\n",
       "8               10      4.100917\n",
       "9               11      4.146580\n",
       "10              12      4.252066\n",
       "11              13      4.099448\n",
       "12              14      4.175439\n",
       "13              15      4.000000"
      ]
     },
     "execution_count": 63,
     "metadata": {},
     "output_type": "execute_result"
    }
   ],
   "source": [
    "review_speed.groupby('delivery_speed')['review_score'].mean().reset_index()"
   ]
  },
  {
   "cell_type": "code",
   "execution_count": 64,
   "id": "9208b9f5-654a-45e8-a4fd-fd9ad48683c0",
   "metadata": {},
   "outputs": [],
   "source": [
    "def categorize_delivery_speed(days):\n",
    "    if days<=3:\n",
    "        return '1-3 days'\n",
    "    if days<=7:\n",
    "        return '4-7 days'\n",
    "    return '8+ days'\n",
    "review_speed['delivery_time'] = review_speed['delivery_speed'].apply(categorize_delivery_speed)"
   ]
  },
  {
   "cell_type": "code",
   "execution_count": 65,
   "id": "c7dae2b1-93a8-4259-adaf-bf83b879485c",
   "metadata": {},
   "outputs": [
    {
     "data": {
      "text/html": [
       "<div>\n",
       "<style scoped>\n",
       "    .dataframe tbody tr th:only-of-type {\n",
       "        vertical-align: middle;\n",
       "    }\n",
       "\n",
       "    .dataframe tbody tr th {\n",
       "        vertical-align: top;\n",
       "    }\n",
       "\n",
       "    .dataframe thead th {\n",
       "        text-align: right;\n",
       "    }\n",
       "</style>\n",
       "<table border=\"1\" class=\"dataframe\">\n",
       "  <thead>\n",
       "    <tr style=\"text-align: right;\">\n",
       "      <th></th>\n",
       "      <th>delivery_time</th>\n",
       "      <th>review_score</th>\n",
       "    </tr>\n",
       "  </thead>\n",
       "  <tbody>\n",
       "    <tr>\n",
       "      <th>0</th>\n",
       "      <td>1-3 days</td>\n",
       "      <td>4.193966</td>\n",
       "    </tr>\n",
       "    <tr>\n",
       "      <th>1</th>\n",
       "      <td>4-7 days</td>\n",
       "      <td>4.075063</td>\n",
       "    </tr>\n",
       "    <tr>\n",
       "      <th>2</th>\n",
       "      <td>8+ days</td>\n",
       "      <td>4.108138</td>\n",
       "    </tr>\n",
       "  </tbody>\n",
       "</table>\n",
       "</div>"
      ],
      "text/plain": [
       "  delivery_time  review_score\n",
       "0      1-3 days      4.193966\n",
       "1      4-7 days      4.075063\n",
       "2       8+ days      4.108138"
      ]
     },
     "execution_count": 65,
     "metadata": {},
     "output_type": "execute_result"
    }
   ],
   "source": [
    "# Avg Delivery Time\n",
    "review_speed.groupby('delivery_time')['review_score'].mean().reset_index()"
   ]
  },
  {
   "cell_type": "code",
   "execution_count": 66,
   "id": "b9c0ecbf-2b0d-47f5-9d39-8b41b5487073",
   "metadata": {},
   "outputs": [
    {
     "data": {
      "text/plain": [
       "np.float64(4.102015503875969)"
      ]
     },
     "execution_count": 66,
     "metadata": {},
     "output_type": "execute_result"
    }
   ],
   "source": [
    "# Review Score for 2023\n",
    "review_speed['review_score'].mean()"
   ]
  },
  {
   "cell_type": "code",
   "execution_count": 67,
   "id": "f49702d8-d399-4ca2-94cd-c22149878c8d",
   "metadata": {},
   "outputs": [
    {
     "data": {
      "text/plain": [
       "<Axes: ylabel='review_score'>"
      ]
     },
     "execution_count": 67,
     "metadata": {},
     "output_type": "execute_result"
    },
    {
     "data": {
      "image/png": "[encoded data removed]",
      "text/plain": [
       "<Figure size 640x480 with 1 Axes>"
      ]
     },
     "metadata": {},
     "output_type": "display_data"
    }
   ],
   "source": [
    "# Review Score\n",
    "review_speed['review_score'].value_counts(normalize=True).plot(kind='barh')"
   ]
  },
  {
   "cell_type": "code",
   "execution_count": 68,
   "id": "c2c5bb03-670b-4ce8-b681-b2d1d32b7b86",
   "metadata": {},
   "outputs": [
    {
     "data": {
      "text/plain": [
       "order_status\n",
       "delivered     0.936364\n",
       "shipped       0.031919\n",
       "canceled      0.012929\n",
       "processing    0.011919\n",
       "pending       0.005051\n",
       "returned      0.001818\n",
       "Name: proportion, dtype: float64"
      ]
     },
     "execution_count": 68,
     "metadata": {},
     "output_type": "execute_result"
    }
   ],
   "source": [
    "# Order status - 2023\n",
    "orders['year'] = pd.to_datetime(orders['order_purchase_timestamp']).apply(lambda t:t.year)\n",
    "orders[orders['year']==2023]['order_status'].value_counts(normalize=True)"
   ]
  },
  {
   "cell_type": "code",
   "execution_count": 69,
   "id": "246094cb-8c34-46a9-8dc1-a38f821adc55",
   "metadata": {},
   "outputs": [
    {
     "data": {
      "text/plain": [
       "np.float64(8.008992248062016)"
      ]
     },
     "execution_count": 69,
     "metadata": {},
     "output_type": "execute_result"
    }
   ],
   "source": [
    "# average delivery time - 2023\n",
    "review_speed['delivery_speed'].mean()"
   ]
  },
  {
   "cell_type": "code",
   "execution_count": null,
   "id": "7abfd209-ed11-423f-9c39-77a1d0df40c2",
   "metadata": {},
   "outputs": [],
   "source": []
  }
 ],
 "metadata": {
  "kernelspec": {
   "display_name": ".venv",
   "language": "python",
   "name": "python3"
  },
  "language_info": {
   "codemirror_mode": {
    "name": "ipython",
    "version": 3
   },
   "file_extension": ".py",
   "mimetype": "text/x-python",
   "name": "python",
   "nbconvert_exporter": "python",
   "pygments_lexer": "ipython3",
   "version": "3.12.1"
  }
 },
 "nbformat": 4,
 "nbformat_minor": 5
}
