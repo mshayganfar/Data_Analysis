{
 "cells": [
  {
   "cell_type": "markdown",
   "metadata": {},
   "source": [
    "# E-commerce Business Intelligence Dashboard\n",
    "\n",
    "## Executive Summary\n",
    "This notebook provides comprehensive analysis of e-commerce business performance, focusing on revenue trends, product performance, geographic distribution, and customer experience metrics. The analysis framework is configurable for different time periods and provides actionable business insights.\n",
    "\n",
    "---\n",
    "\n",
    "## Table of Contents\n",
    "1. [Introduction & Business Objectives](#introduction)\n",
    "2. [Data Loading & Configuration](#data-loading)\n",
    "3. [Data Dictionary](#data-dictionary)\n",
    "4. [Data Preparation & Transformation](#data-preparation)\n",
    "5. [Business Metrics Analysis](#business-metrics)\n",
    "   - [Revenue Analysis](#revenue-analysis)\n",
    "   - [Product Performance](#product-performance)\n",
    "   - [Geographic Analysis](#geographic-analysis)\n",
    "   - [Customer Experience](#customer-experience)\n",
    "6. [Summary & Key Insights](#summary)\n",
    "\n",
    "---"
   ]
  },
  {
   "cell_type": "markdown",
   "metadata": {},
   "source": [
    "## 1. Introduction & Business Objectives {#introduction}\n",
    "\n",
    "### Business Questions\n",
    "This analysis aims to answer key business questions:\n",
    "- How is our revenue performing compared to previous periods?\n",
    "- Which product categories drive the most revenue?\n",
    "- What are the geographic patterns in our sales?\n",
    "- How does delivery performance impact customer satisfaction?\n",
    "- What operational metrics indicate business health?\n",
    "\n",
    "### Analysis Framework\n",
    "The analysis is designed to be configurable for different time periods and comparison scenarios, enabling regular business reviews and strategic planning."
   ]
  },
  {
   "cell_type": "markdown",
   "metadata": {},
   "source": [
    "## 2. Data Loading & Configuration {#data-loading}\n",
    "\n",
    "### Configuration Parameters\n",
    "Set your analysis parameters here:"
   ]
  },
  {
   "cell_type": "code",
   "execution_count": 1,
   "metadata": {},
   "outputs": [
    {
     "name": "stdout",
     "output_type": "stream",
     "text": [
      "Analysis Period: Full year 2023\n",
      "Comparison Period: Full year 2022\n",
      "Data Source: ecommerce_data/\n"
     ]
    }
   ],
   "source": [
    "# Analysis Configuration\n",
    "ANALYSIS_YEAR = 2023\n",
    "COMPARISON_YEAR = 2022\n",
    "ANALYSIS_MONTH = None  # Set to specific month (1-12) or None for full year\n",
    "DATA_PATH = \"ecommerce_data/\"\n",
    "\n",
    "# Display configuration\n",
    "print(f\"Analysis Period: {'Full year' if ANALYSIS_MONTH is None else f'Month {ANALYSIS_MONTH}'} {ANALYSIS_YEAR}\")\n",
    "print(f\"Comparison Period: {'Full year' if ANALYSIS_MONTH is None else f'Month {ANALYSIS_MONTH}'} {COMPARISON_YEAR}\")\n",
    "print(f\"Data Source: {DATA_PATH}\")"
   ]
  },
  {
   "cell_type": "code",
   "execution_count": 2,
   "metadata": {},
   "outputs": [
    {
     "name": "stderr",
     "output_type": "stream",
     "text": [
      "Matplotlib is building the font cache; this may take a moment.\n"
     ]
    },
    {
     "name": "stdout",
     "output_type": "stream",
     "text": [
      "Analysis environment initialized successfully!\n",
      "Analysis timestamp: 2025-08-12 01:05:08\n"
     ]
    }
   ],
   "source": [
    "# Import required libraries\n",
    "import pandas as pd\n",
    "import numpy as np\n",
    "import matplotlib.pyplot as plt\n",
    "import seaborn as sns\n",
    "import plotly.express as px\n",
    "import warnings\n",
    "from datetime import datetime\n",
    "\n",
    "# Import custom modules\n",
    "from data_loader import EcommerceDataLoader\n",
    "from business_metrics import EcommerceMetrics\n",
    "\n",
    "# Configure display options\n",
    "pd.set_option('display.max_columns', None)\n",
    "warnings.filterwarnings('ignore')\n",
    "plt.style.use('default')\n",
    "plt.rcParams['figure.figsize'] = (12, 6)\n",
    "\n",
    "# Initialize our analysis tools\n",
    "data_loader = EcommerceDataLoader(DATA_PATH)\n",
    "metrics_calculator = EcommerceMetrics()\n",
    "\n",
    "print(\"Analysis environment initialized successfully!\")\n",
    "print(f\"Analysis timestamp: {datetime.now().strftime('%Y-%m-%d %H:%M:%S')}\")"
   ]
  },
  {
   "cell_type": "markdown",
   "metadata": {},
   "source": [
    "## 3. Data Dictionary {#data-dictionary}\n",
    "\n",
    "### Dataset Overview\n",
    "Our e-commerce analysis uses the following datasets:\n",
    "\n",
    "| Dataset | Description | Key Fields |\n",
    "|---------|-------------|------------|\n",
    "| **Orders** | Order-level information | `order_id`, `customer_id`, `order_status`, `order_purchase_timestamp` |\n",
    "| **Order Items** | Product-level details for each order | `order_id`, `product_id`, `price`, `freight_value` |\n",
    "| **Products** | Product catalog information | `product_id`, `product_category_name` |\n",
    "| **Customers** | Customer demographic data | `customer_id`, `customer_state`, `customer_city` |\n",
    "| **Reviews** | Customer feedback and ratings | `order_id`, `review_score` |\n",
    "\n",
    "### Key Business Terms\n",
    "- **Revenue**: Total price of delivered orders (excludes freight)\n",
    "- **Average Order Value (AOV)**: Mean total order value across all orders\n",
    "- **Delivery Speed**: Days between order purchase and customer delivery\n",
    "- **Fulfillment Rate**: Percentage of orders with 'delivered' status\n",
    "- **Customer Satisfaction**: Average review score (1-5 scale)"
   ]
  },
  {
   "cell_type": "markdown",
   "metadata": {},
   "source": [
    "## 4. Data Preparation & Transformation {#data-preparation}\n",
    "\n",
    "### Loading and Initial Processing"
   ]
  },
  {
   "cell_type": "code",
   "execution_count": 3,
   "metadata": {},
   "outputs": [
    {
     "name": "stdout",
     "output_type": "stream",
     "text": [
      "Loading all datasets...\n",
      "All datasets loaded successfully!\n",
      "DATASET SUMMARY\n",
      "==============================\n",
      "Orders: 10,000 records\n",
      "Order Items: 16,047 records\n",
      "Products: 6,000 records\n",
      "Customers: 8,000 records\n",
      "Reviews: 6,571 records\n",
      "\n",
      "Date Range: 2021-12-31 to 2024-01-01\n",
      "Unique Customers: 5,745\n",
      "Product Categories: 13\n",
      "Average Review Score: 4.11/5.0\n",
      "\n",
      "Product Categories Available:\n",
      "   1. Books Media\n",
      "   2. Grocery Gourmet Food\n",
      "   3. Electronics\n",
      "   4. Sports Outdoors\n",
      "   5. Home Garden\n",
      "   6. Pet Supplies\n",
      "   7. Automotive\n",
      "   8. Health Personal Care\n",
      "   9. Toys Games\n",
      "  10. Beauty Personal Care\n",
      "  11. Clothing Shoes Jewelry\n",
      "  12. Tools Home Improvement\n",
      "  13. Baby Products\n"
     ]
    }
   ],
   "source": [
    "# Load all datasets using the improved data loader\n",
    "datasets = data_loader.load_all_datasets()\n",
    "\n",
    "# Get comprehensive data summary\n",
    "data_summary = data_loader.get_dataset_summary()\n",
    "\n",
    "print(\"DATASET SUMMARY\")\n",
    "print(\"=\" * 30)\n",
    "print(f\"Orders: {data_summary['orders']['total_records']:,} records\")\n",
    "print(f\"Order Items: {data_summary['order_items']['total_records']:,} records\")\n",
    "print(f\"Products: {data_summary['products']['total_records']:,} records\")\n",
    "print(f\"Customers: {data_summary['customers']['total_records']:,} records\")\n",
    "print(f\"Reviews: {data_summary['reviews']['total_records']:,} records\")\n",
    "\n",
    "start_date = data_summary['orders']['date_range'][0].strftime('%Y-%m-%d')\n",
    "end_date = data_summary['orders']['date_range'][1].strftime('%Y-%m-%d')\n",
    "print(f\"\\nDate Range: {start_date} to {end_date}\")\n",
    "print(f\"Unique Customers: {data_summary['orders']['unique_customers']:,}\")\n",
    "print(f\"Product Categories: {data_summary['products']['unique_categories']}\")\n",
    "print(f\"Average Review Score: {data_summary['reviews']['average_score']:.2f}/5.0\")\n",
    "\n",
    "print(f\"\\nProduct Categories Available:\")\n",
    "categories = data_summary['products']['categories']\n",
    "for i, category in enumerate(categories, 1):\n",
    "    print(f\"  {i:2}. {category.replace('_', ' ').title()}\")"
   ]
  },
  {
   "cell_type": "code",
   "execution_count": 4,
   "metadata": {},
   "outputs": [
    {
     "name": "stdout",
     "output_type": "stream",
     "text": [
      "Analysis Period (2023): 7,448 delivered order items\n",
      "Comparison Period (2022): 7,641 delivered order items\n",
      "Current Period Revenue: $3,360,294.74\n",
      "Previous Period Revenue: $3,445,076.96\n",
      "Revenue Growth Rate: -2.46%\n"
     ]
    }
   ],
   "source": [
    "# Prepare sales data using the improved data loader\n",
    "sales_analysis = data_loader.prepare_sales_data(year=ANALYSIS_YEAR, month=ANALYSIS_MONTH)\n",
    "sales_comparison = data_loader.prepare_sales_data(year=COMPARISON_YEAR, month=ANALYSIS_MONTH)\n",
    "\n",
    "# Create period description for charts\n",
    "if ANALYSIS_MONTH:\n",
    "    period_label = f\"{ANALYSIS_YEAR} Month {ANALYSIS_MONTH}\"\n",
    "    comparison_label = f\"{COMPARISON_YEAR} Month {ANALYSIS_MONTH}\"\n",
    "    chart_suffix = f\"({period_label} vs {comparison_label})\"\n",
    "else:\n",
    "    period_label = f\"{ANALYSIS_YEAR}\"\n",
    "    comparison_label = f\"{COMPARISON_YEAR}\" \n",
    "    chart_suffix = f\"({period_label} vs {comparison_label})\"\n",
    "\n",
    "print(f\"Analysis Period ({period_label}): {len(sales_analysis):,} delivered order items\")\n",
    "print(f\"Comparison Period ({comparison_label}): {len(sales_comparison):,} delivered order items\")\n",
    "print(f\"Current Period Revenue: ${sales_analysis['price'].sum():,.2f}\")\n",
    "print(f\"Previous Period Revenue: ${sales_comparison['price'].sum():,.2f}\")\n",
    "\n",
    "# Calculate basic growth rate\n",
    "if len(sales_comparison) > 0:\n",
    "    growth_rate = ((sales_analysis['price'].sum() - sales_comparison['price'].sum()) / sales_comparison['price'].sum()) * 100\n",
    "    print(f\"Revenue Growth Rate: {growth_rate:+.2f}%\")"
   ]
  },
  {
   "cell_type": "markdown",
   "metadata": {},
   "source": [
    "## 5. Business Metrics Analysis {#business-metrics}\n",
    "\n",
    "### 5.1 Revenue Analysis {#revenue-analysis}\n",
    "\n",
    "#### Key Revenue Metrics"
   ]
  },
  {
   "cell_type": "code",
   "execution_count": 5,
   "metadata": {},
   "outputs": [
    {
     "name": "stdout",
     "output_type": "stream",
     "text": [
      "REVENUE PERFORMANCE ANALYSIS\n",
      "========================================\n",
      "Current Period Revenue: $3,360,294.74\n",
      "Previous Period Revenue: $3,445,076.96\n",
      "Revenue Growth Rate: -2.46%\n",
      "\n",
      "ORDER METRICS:\n",
      "Current Period Orders: 4,635\n",
      "Previous Period Orders: 4,749\n",
      "Order Growth Rate: -2.40%\n",
      "\n",
      "AVERAGE ORDER VALUE:\n",
      "Current Period AOV: $724.98\n",
      "Previous Period AOV: $725.43\n",
      "AOV Growth Rate: -0.06%\n",
      "\n",
      "ADDITIONAL METRICS:\n",
      "Total Items Sold: 7,448\n"
     ]
    }
   ],
   "source": [
    "# Calculate comprehensive revenue metrics using the enhanced metrics calculator\n",
    "revenue_metrics = metrics_calculator.calculate_revenue_metrics(sales_analysis, sales_comparison)\n",
    "\n",
    "print(\"REVENUE PERFORMANCE ANALYSIS\")\n",
    "print(\"=\" * 40)\n",
    "print(f\"Current Period Revenue: ${revenue_metrics['total_revenue']:,.2f}\")\n",
    "print(f\"Previous Period Revenue: ${revenue_metrics['previous_revenue']:,.2f}\")\n",
    "print(f\"Revenue Growth Rate: {revenue_metrics['revenue_growth_rate']:+.2f}%\")\n",
    "\n",
    "print(f\"\\nORDER METRICS:\")\n",
    "print(f\"Current Period Orders: {revenue_metrics['total_orders']:,}\")\n",
    "print(f\"Previous Period Orders: {revenue_metrics['previous_orders']:,}\") \n",
    "print(f\"Order Growth Rate: {revenue_metrics['order_growth_rate']:+.2f}%\")\n",
    "\n",
    "print(f\"\\nAVERAGE ORDER VALUE:\")\n",
    "print(f\"Current Period AOV: ${revenue_metrics['avg_order_value']:,.2f}\")\n",
    "print(f\"Previous Period AOV: ${revenue_metrics['previous_aov']:,.2f}\")\n",
    "print(f\"AOV Growth Rate: {revenue_metrics['aov_growth_rate']:+.2f}%\")\n",
    "\n",
    "print(f\"\\nADDITIONAL METRICS:\")\n",
    "print(f\"Total Items Sold: {revenue_metrics['total_items_sold']:,}\")"
   ]
  },
  {
   "cell_type": "markdown",
   "metadata": {},
   "source": [
    "#### Monthly Revenue Trends (Current Period)"
   ]
  },
  {
   "cell_type": "code",
   "execution_count": 6,
   "metadata": {},
   "outputs": [
    {
     "name": "stdout",
     "output_type": "stream",
     "text": [
      "MONTHLY PERFORMANCE TRENDS\n",
      "===================================\n",
      "Month  Revenue      Orders  AOV      Growth  \n",
      "---------------------------------------------\n",
      "1      $284,855     384     $741.81  N/A     \n",
      "2      $276,759     384     $720.73  -2.8%   \n",
      "3      $285,619     394     $724.92  +3.2%   \n",
      "4      $253,795     370     $685.93  -11.1%  \n",
      "5      $301,348     396     $760.98  +18.7%  \n",
      "6      $289,127     406     $712.13  -4.1%   \n",
      "7      $296,209     392     $755.64  +2.4%   \n",
      "8      $286,646     375     $764.39  -3.2%   \n",
      "9      $303,793     384     $791.13  +6.0%   \n",
      "10     $259,890     379     $685.73  -14.5%  \n",
      "11     $259,519     384     $675.83  -0.1%   \n",
      "12     $262,735     387     $678.90  +1.2%   \n",
      "\n",
      "SUMMARY STATISTICS:\n",
      "Average Monthly Growth Rate: -0.39%\n",
      "Total Annual Revenue: $3,360,294.74\n",
      "Best Month: 9 ($303,793.15)\n",
      "Worst Month: 4 ($253,794.62)\n"
     ]
    }
   ],
   "source": [
    "# Calculate and display monthly trends (only for full year analysis)\n",
    "if ANALYSIS_MONTH is None:\n",
    "    monthly_trends = metrics_calculator.calculate_monthly_trends(sales_analysis)\n",
    "    \n",
    "    print(\"MONTHLY PERFORMANCE TRENDS\")\n",
    "    print(\"=\" * 35)\n",
    "    \n",
    "    # Create formatted display version\n",
    "    display_df = monthly_trends.copy()\n",
    "    display_df['revenue_formatted'] = display_df['revenue'].apply(lambda x: f\"${x:,.0f}\")\n",
    "    display_df['aov_formatted'] = display_df['avg_order_value'].apply(lambda x: f\"${x:.2f}\")\n",
    "    display_df['growth_formatted'] = display_df['revenue_growth'].apply(lambda x: f\"{x:+.1f}%\" if pd.notna(x) else \"N/A\")\n",
    "    \n",
    "    # Display the table\n",
    "    print(f\"{'Month':<6} {'Revenue':<12} {'Orders':<7} {'AOV':<8} {'Growth':<8}\")\n",
    "    print(\"-\" * 45)\n",
    "    for _, row in display_df.iterrows():\n",
    "        print(f\"{int(row['month']):<6} {row['revenue_formatted']:<12} {int(row['orders']):<7} {row['aov_formatted']:<8} {row['growth_formatted']:<8}\")\n",
    "    \n",
    "    # Calculate summary statistics\n",
    "    avg_monthly_growth = monthly_trends['revenue_growth'].mean()\n",
    "    total_revenue = monthly_trends['revenue'].sum()\n",
    "    \n",
    "    print(f\"\\nSUMMARY STATISTICS:\")\n",
    "    print(f\"Average Monthly Growth Rate: {avg_monthly_growth:+.2f}%\")\n",
    "    print(f\"Total Annual Revenue: ${total_revenue:,.2f}\")\n",
    "    print(f\"Best Month: {monthly_trends.loc[monthly_trends['revenue'].idxmax(), 'month']:.0f} (${monthly_trends['revenue'].max():,.2f})\")\n",
    "    print(f\"Worst Month: {monthly_trends.loc[monthly_trends['revenue'].idxmin(), 'month']:.0f} (${monthly_trends['revenue'].min():,.2f})\")\n",
    "else:\n",
    "    print(f\"Monthly trends analysis not applicable for single month analysis (Month {ANALYSIS_MONTH})\")\n",
    "    print(f\"Focus: Detailed analysis of {period_label}\")"
   ]
  },
  {
   "cell_type": "code",
   "execution_count": 7,
   "metadata": {},
   "outputs": [
    {
     "name": "stdout",
     "output_type": "stream",
     "text": [
      "Creating revenue trend visualization...\n"
     ]
    },
    {
     "data": {
      "image/png": "[encoded data removed]",
      "text/plain": [
       "<Figure size 1200x600 with 1 Axes>"
      ]
     },
     "metadata": {},
     "output_type": "display_data"
    }
   ],
   "source": [
    "# Create revenue trend visualization (only for full year analysis)\n",
    "if ANALYSIS_MONTH is None:\n",
    "    print(\"Creating revenue trend visualization...\")\n",
    "    revenue_chart = metrics_calculator.create_revenue_trend_chart(monthly_trends, chart_suffix)\n",
    "    plt.show()\n",
    "else:\n",
    "    # For single month, show a simple comparison chart\n",
    "    print(\"Creating revenue comparison chart...\")\n",
    "    \n",
    "    fig, ax = plt.subplots(figsize=(10, 6))\n",
    "    \n",
    "    periods = [comparison_label, period_label]\n",
    "    revenues = [revenue_metrics['previous_revenue'], revenue_metrics['total_revenue']]\n",
    "    colors = ['#ff7f0e', '#1f77b4']\n",
    "    \n",
    "    bars = ax.bar(periods, revenues, color=colors, alpha=0.8)\n",
    "    \n",
    "    # Add value labels on bars\n",
    "    for bar, revenue in zip(bars, revenues):\n",
    "        height = bar.get_height()\n",
    "        ax.text(bar.get_x() + bar.get_width()/2., height + max(revenues)*0.01,\n",
    "                f'${revenue:,.0f}', ha='center', va='bottom', fontweight='bold')\n",
    "    \n",
    "    # Add growth rate annotation\n",
    "    growth_rate = revenue_metrics['revenue_growth_rate']\n",
    "    color = 'green' if growth_rate > 0 else 'red'\n",
    "    ax.text(0.5, max(revenues)*0.85, f'Growth: {growth_rate:+.1f}%', \n",
    "            transform=ax.transData, ha='center', fontsize=14, \n",
    "            bbox=dict(boxstyle=\"round,pad=0.3\", facecolor=color, alpha=0.3))\n",
    "    \n",
    "    ax.set_title(f'Revenue Comparison {chart_suffix}', fontsize=16, fontweight='bold', pad=20)\n",
    "    ax.set_ylabel('Revenue ($)', fontsize=12)\n",
    "    ax.yaxis.set_major_formatter(plt.FuncFormatter(lambda x, p: f'${x:,.0f}'))\n",
    "    ax.grid(True, alpha=0.3, axis='y')\n",
    "    \n",
    "    plt.tight_layout()\n",
    "    plt.show()"
   ]
  },
  {
   "cell_type": "markdown",
   "metadata": {},
   "source": [
    "### 5.2 Product Performance Analysis {#product-performance}\n",
    "\n",
    "#### Product Category Performance"
   ]
  },
  {
   "cell_type": "code",
   "execution_count": 8,
   "metadata": {},
   "outputs": [
    {
     "name": "stdout",
     "output_type": "stream",
     "text": [
      "PRODUCT CATEGORY PERFORMANCE ANALYSIS\n",
      "=============================================\n",
      "\n",
      "TOP 10 CATEGORIES BY REVENUE:\n",
      "-----------------------------------\n",
      " 1. Electronics               $1,401,359.21 ( 42.5%)\n",
      " 2. Home Garden               $  862,653.27 ( 26.1%)\n",
      " 3. Sports Outdoors           $  278,845.32 (  8.4%)\n",
      " 4. Automotive                $  247,707.10 (  7.5%)\n",
      " 5. Clothing Shoes Jewelry    $  232,745.04 (  7.1%)\n",
      " 6. Toys Games                $   70,163.64 (  2.1%)\n",
      " 7. Health Personal Care      $   65,370.27 (  2.0%)\n",
      " 8. Tools Home Improvement    $   54,280.33 (  1.6%)\n",
      " 9. Beauty Personal Care      $   49,213.30 (  1.5%)\n",
      "10. Books Media               $   38,559.08 (  1.2%)\n",
      "\n",
      "TOP 10 CATEGORIES BY ORDER COUNT:\n",
      "-----------------------------------\n",
      " 1. Electronics                  1,327 items\n",
      " 2. Home Garden                  1,149 items\n",
      " 3. Clothing Shoes Jewelry         884 items\n",
      " 4. Books Media                    725 items\n",
      " 5. Sports Outdoors                686 items\n",
      " 6. Health Personal Care           630 items\n",
      " 7. Automotive                     489 items\n",
      " 8. Toys Games                     476 items\n",
      " 9. Grocery Gourmet Food           353 items\n",
      "10. Beauty Personal Care           315 items\n",
      "\n",
      "TOP 10 CATEGORIES BY AVERAGE ORDER VALUE:\n",
      "----------------------------------------\n",
      " 1. Electronics               $  1,056.04\n",
      " 2. Home Garden               $    750.79\n",
      " 3. Automotive                $    506.56\n",
      " 4. Sports Outdoors           $    406.48\n",
      " 5. Clothing Shoes Jewelry    $    263.29\n",
      " 6. Tools Home Improvement    $    247.86\n",
      " 7. Baby Products             $    196.14\n",
      " 8. Beauty Personal Care      $    156.23\n",
      " 9. Toys Games                $    147.40\n",
      "10. Pet Supplies              $    108.05\n",
      "\n",
      "CATEGORY INSIGHTS:\n",
      "• Electronics leads with $1,401,359.21 in revenue\n",
      "• Analysis covers 10 distinct product categories\n",
      "• Top 3 categories represent 77.0% of total revenue\n"
     ]
    }
   ],
   "source": [
    "# Product category analysis using enhanced data loader methods\n",
    "product_sales_data = data_loader.get_sales_with_products(year=ANALYSIS_YEAR, month=ANALYSIS_MONTH)\n",
    "product_metrics = metrics_calculator.analyze_product_performance(product_sales_data)\n",
    "\n",
    "print(\"PRODUCT CATEGORY PERFORMANCE ANALYSIS\")\n",
    "print(\"=\" * 45)\n",
    "\n",
    "print(\"\\nTOP 10 CATEGORIES BY REVENUE:\")\n",
    "print(\"-\" * 35)\n",
    "for i, (category, revenue) in enumerate(list(product_metrics['top_categories_by_revenue'].items())[:10], 1):\n",
    "    category_name = category.replace('_', ' ').title()\n",
    "    total_revenue = sum(product_metrics['top_categories_by_revenue'].values())\n",
    "    percentage = (revenue / total_revenue) * 100\n",
    "    print(f\"{i:2}. {category_name:<25} ${revenue:>12,.2f} ({percentage:>5.1f}%)\")\n",
    "\n",
    "print(f\"\\nTOP 10 CATEGORIES BY ORDER COUNT:\")\n",
    "print(\"-\" * 35)\n",
    "for i, (category, orders) in enumerate(list(product_metrics['top_categories_by_orders'].items())[:10], 1):\n",
    "    category_name = category.replace('_', ' ').title()\n",
    "    print(f\"{i:2}. {category_name:<25} {orders:>8,} items\")\n",
    "\n",
    "print(f\"\\nTOP 10 CATEGORIES BY AVERAGE ORDER VALUE:\")\n",
    "print(\"-\" * 40)\n",
    "for i, (category, aov) in enumerate(list(product_metrics['top_categories_by_aov'].items())[:10], 1):\n",
    "    category_name = category.replace('_', ' ').title()\n",
    "    print(f\"{i:2}. {category_name:<25} ${aov:>10,.2f}\")\n",
    "\n",
    "# Category insights\n",
    "top_category = list(product_metrics['top_categories_by_revenue'].keys())[0]\n",
    "top_revenue = list(product_metrics['top_categories_by_revenue'].values())[0]\n",
    "total_cats = len(product_metrics['top_categories_by_revenue'])\n",
    "\n",
    "print(f\"\\nCATEGORY INSIGHTS:\")\n",
    "print(f\"• {top_category.replace('_', ' ').title()} leads with ${top_revenue:,.2f} in revenue\")\n",
    "print(f\"• Analysis covers {total_cats} distinct product categories\")\n",
    "print(f\"• Top 3 categories represent {sum(list(product_metrics['top_categories_by_revenue'].values())[:3])/sum(product_metrics['top_categories_by_revenue'].values())*100:.1f}% of total revenue\")"
   ]
  },
  {
   "cell_type": "code",
   "execution_count": 9,
   "metadata": {},
   "outputs": [
    {
     "name": "stdout",
     "output_type": "stream",
     "text": [
      "Creating product category performance chart...\n"
     ]
    },
    {
     "data": {
      "image/png": "[encoded data removed]",
      "text/plain": [
       "<Figure size 1200x800 with 1 Axes>"
      ]
     },
     "metadata": {},
     "output_type": "display_data"
    }
   ],
   "source": [
    "# Create enhanced product category visualization\n",
    "print(\"Creating product category performance chart...\")\n",
    "category_chart = metrics_calculator.create_category_performance_chart(product_metrics, chart_suffix)\n",
    "plt.show()"
   ]
  },
  {
   "cell_type": "markdown",
   "metadata": {},
   "source": [
    "### 5.3 Geographic Analysis {#geographic-analysis}\n",
    "\n",
    "#### Sales Performance by State"
   ]
  },
  {
   "cell_type": "code",
   "execution_count": 10,
   "metadata": {},
   "outputs": [
    {
     "name": "stdout",
     "output_type": "stream",
     "text": [
      "GEOGRAPHIC PERFORMANCE ANALYSIS\n",
      "===================================\n",
      "\n",
      "TOP 15 STATES BY REVENUE:\n",
      "------------------------------\n",
      " 1. CA   $  537,880.74 ( 22.1%)\n",
      " 2. TX   $  403,303.49 ( 16.6%)\n",
      " 3. FL   $  310,195.84 ( 12.8%)\n",
      " 4. NY   $  253,111.85 ( 10.4%)\n",
      " 5. IL   $  185,930.89 (  7.7%)\n",
      " 6. PA   $  173,260.68 (  7.1%)\n",
      " 7. OH   $  157,619.72 (  6.5%)\n",
      " 8. GA   $  146,414.65 (  6.0%)\n",
      " 9. MI   $  132,325.60 (  5.4%)\n",
      "10. NC   $  128,314.74 (  5.3%)\n",
      "\n",
      "TOP 10 STATES BY CUSTOMER COUNT:\n",
      "-----------------------------------\n",
      " 1. CA      582 customers\n",
      " 2. TX      438 customers\n",
      " 3. FL      332 customers\n",
      " 4. NY      286 customers\n",
      " 5. IL      190 customers\n",
      " 6. PA      172 customers\n",
      " 7. MI      164 customers\n",
      " 8. OH      151 customers\n",
      " 9. GA      145 customers\n",
      "10. NC      135 customers\n",
      "\n",
      "TOP 10 STATES BY AVERAGE ORDER VALUE:\n",
      "--------------------------------------\n",
      " 1. PA   $    493.62\n",
      " 2. IN   $    482.04\n",
      " 3. TN   $    481.30\n",
      " 4. AZ   $    478.99\n",
      " 5. GA   $    478.48\n",
      " 6. NJ   $    477.29\n",
      " 7. WI   $    476.99\n",
      " 8. MA   $    470.83\n",
      " 9. OH   $    464.95\n",
      "10. TX   $    464.10\n",
      "\n",
      "GEOGRAPHIC INSIGHTS:\n",
      "• CA leads with $537,880.74 in revenue\n",
      "• Analysis covers 10 states/regions\n",
      "• Top 5 states represent 69.6% of total revenue\n",
      "• Geographic diversification shows healthy market spread\n"
     ]
    }
   ],
   "source": [
    "# Geographic analysis using enhanced data loader methods\n",
    "geographic_sales = data_loader.get_sales_with_customers(year=ANALYSIS_YEAR, month=ANALYSIS_MONTH)\n",
    "geographic_metrics = metrics_calculator.analyze_geographic_performance(geographic_sales)\n",
    "\n",
    "print(\"GEOGRAPHIC PERFORMANCE ANALYSIS\")\n",
    "print(\"=\" * 35)\n",
    "\n",
    "print(f\"\\nTOP 15 STATES BY REVENUE:\")\n",
    "print(\"-\" * 30)\n",
    "total_geo_revenue = sum(geographic_metrics['top_states_by_revenue'].values())\n",
    "for i, (state, revenue) in enumerate(list(geographic_metrics['top_states_by_revenue'].items())[:15], 1):\n",
    "    percentage = (revenue / total_geo_revenue) * 100\n",
    "    print(f\"{i:2}. {state:<4} ${revenue:>12,.2f} ({percentage:>5.1f}%)\")\n",
    "\n",
    "print(f\"\\nTOP 10 STATES BY CUSTOMER COUNT:\")\n",
    "print(\"-\" * 35)\n",
    "for i, (state, customers) in enumerate(list(geographic_metrics['top_states_by_customers'].items())[:10], 1):\n",
    "    print(f\"{i:2}. {state:<4} {customers:>6,} customers\")\n",
    "\n",
    "print(f\"\\nTOP 10 STATES BY AVERAGE ORDER VALUE:\")\n",
    "print(\"-\" * 38)\n",
    "for i, (state, aov) in enumerate(list(geographic_metrics['top_states_by_aov'].items())[:10], 1):\n",
    "    print(f\"{i:2}. {state:<4} ${aov:>10,.2f}\")\n",
    "\n",
    "# Geographic insights\n",
    "top_state = list(geographic_metrics['top_states_by_revenue'].keys())[0]\n",
    "top_state_revenue = list(geographic_metrics['top_states_by_revenue'].values())[0]\n",
    "total_states = len(geographic_metrics['top_states_by_revenue'])\n",
    "\n",
    "print(f\"\\nGEOGRAPHIC INSIGHTS:\")\n",
    "print(f\"• {top_state} leads with ${top_state_revenue:,.2f} in revenue\")\n",
    "print(f\"• Analysis covers {total_states} states/regions\")\n",
    "print(f\"• Top 5 states represent {sum(list(geographic_metrics['top_states_by_revenue'].values())[:5])/total_geo_revenue*100:.1f}% of total revenue\")\n",
    "print(f\"• Geographic diversification shows healthy market spread\")"
   ]
  },
  {
   "cell_type": "code",
   "execution_count": 11,
   "metadata": {},
   "outputs": [
    {
     "name": "stdout",
     "output_type": "stream",
     "text": [
      "Creating geographic revenue heatmap...\n"
     ]
    },
    {
     "data": {
      "application/vnd.plotly.v1+json": {
       "config": {
        "plotlyServerURL": "https://plot.ly"
       },
       "data": [
        {
         "coloraxis": "coloraxis",
         "geo": "geo",
         "hovertemplate": "State=%{location}<br>Revenue ($)=%{z}<extra></extra>",
         "locationmode": "USA-states",
         "locations": [
          "AZ",
          "CA",
          "FL",
          "GA",
          "IL",
          "IN",
          "MA",
          "MD",
          "MI",
          "MO",
          "NC",
          "NJ",
          "NY",
          "OH",
          "PA",
          "TN",
          "TX",
          "VA",
          "WA",
          "WI"
         ],
         "name": "",
         "type": "choropleth",
         "z": {
          "bdata": "ZmZmZtJw+ECuR+F6MWogQcP1KFzP7hJBMzMzM3XfAUHrUbgeV7IGQRSuR+HaEPVASOF6FHIs+UAVrkfhNin1QM3MzMwsJwBBMzMzM7Ov8kBxPQrXq1P/QFyPwvXYHP9AzczMzL7lDkEpXI/CnT0DQQrXo3BlJgVB7FG4Hs1y8kBcj8L1nZ0YQXE9CtePsflAhetRuKo590D2KFyPHoTyQA==",
          "dtype": "f8"
         }
        }
       ],
       "layout": {
        "coloraxis": {
         "colorbar": {
          "title": {
           "text": "Revenue ($)"
          }
         },
         "colorscale": [
          [
           0,
           "rgb(255,245,240)"
          ],
          [
           0.125,
           "rgb(254,224,210)"
          ],
          [
           0.25,
           "rgb(252,187,161)"
          ],
          [
           0.375,
           "rgb(252,146,114)"
          ],
          [
           0.5,
           "rgb(251,106,74)"
          ],
          [
           0.625,
           "rgb(239,59,44)"
          ],
          [
           0.75,
           "rgb(203,24,29)"
          ],
          [
           0.875,
           "rgb(165,15,21)"
          ],
          [
           1,
           "rgb(103,0,13)"
          ]
         ]
        },
        "geo": {
         "center": {},
         "domain": {
          "x": [
           0,
           1
          ],
          "y": [
           0,
           1
          ]
         },
         "scope": "usa",
         "showcoastlines": true,
         "showframe": false
        },
        "legend": {
         "tracegroupgap": 0
        },
        "template": {
         "data": {
          "bar": [
           {
            "error_x": {
             "color": "#2a3f5f"
            },
            "error_y": {
             "color": "#2a3f5f"
            },
            "marker": {
             "line": {
              "color": "#E5ECF6",
              "width": 0.5
             },
             "pattern": {
              "fillmode": "overlay",
              "size": 10,
              "solidity": 0.2
             }
            },
            "type": "bar"
           }
          ],
          "barpolar": [
           {
            "marker": {
             "line": {
              "color": "#E5ECF6",
              "width": 0.5
             },
             "pattern": {
              "fillmode": "overlay",
              "size": 10,
              "solidity": 0.2
             }
            },
            "type": "barpolar"
           }
          ],
          "carpet": [
           {
            "aaxis": {
             "endlinecolor": "#2a3f5f",
             "gridcolor": "white",
             "linecolor": "white",
             "minorgridcolor": "white",
             "startlinecolor": "#2a3f5f"
            },
            "baxis": {
             "endlinecolor": "#2a3f5f",
             "gridcolor": "white",
             "linecolor": "white",
             "minorgridcolor": "white",
             "startlinecolor": "#2a3f5f"
            },
            "type": "carpet"
           }
          ],
          "choropleth": [
           {
            "colorbar": {
             "outlinewidth": 0,
             "ticks": ""
            },
            "type": "choropleth"
           }
          ],
          "contour": [
           {
            "colorbar": {
             "outlinewidth": 0,
             "ticks": ""
            },
            "colorscale": [
             [
              0,
              "#0d0887"
             ],
             [
              0.1111111111111111,
              "#46039f"
             ],
             [
              0.2222222222222222,
              "#7201a8"
             ],
             [
              0.3333333333333333,
              "#9c179e"
             ],
             [
              0.4444444444444444,
              "#bd3786"
             ],
             [
              0.5555555555555556,
              "#d8576b"
             ],
             [
              0.6666666666666666,
              "#ed7953"
             ],
             [
              0.7777777777777778,
              "#fb9f3a"
             ],
             [
              0.8888888888888888,
              "#fdca26"
             ],
             [
              1,
              "#f0f921"
             ]
            ],
            "type": "contour"
           }
          ],
          "contourcarpet": [
           {
            "colorbar": {
             "outlinewidth": 0,
             "ticks": ""
            },
            "type": "contourcarpet"
           }
          ],
          "heatmap": [
           {
            "colorbar": {
             "outlinewidth": 0,
             "ticks": ""
            },
            "colorscale": [
             [
              0,
              "#0d0887"
             ],
             [
              0.1111111111111111,
              "#46039f"
             ],
             [
              0.2222222222222222,
              "#7201a8"
             ],
             [
              0.3333333333333333,
              "#9c179e"
             ],
             [
              0.4444444444444444,
              "#bd3786"
             ],
             [
              0.5555555555555556,
              "#d8576b"
             ],
             [
              0.6666666666666666,
              "#ed7953"
             ],
             [
              0.7777777777777778,
              "#fb9f3a"
             ],
             [
              0.8888888888888888,
              "#fdca26"
             ],
             [
              1,
              "#f0f921"
             ]
            ],
            "type": "heatmap"
           }
          ],
          "histogram": [
           {
            "marker": {
             "pattern": {
              "fillmode": "overlay",
              "size": 10,
              "solidity": 0.2
             }
            },
            "type": "histogram"
           }
          ],
          "histogram2d": [
           {
            "colorbar": {
             "outlinewidth": 0,
             "ticks": ""
            },
            "colorscale": [
             [
              0,
              "#0d0887"
             ],
             [
              0.1111111111111111,
              "#46039f"
             ],
             [
              0.2222222222222222,
              "#7201a8"
             ],
             [
              0.3333333333333333,
              "#9c179e"
             ],
             [
              0.4444444444444444,
              "#bd3786"
             ],
             [
              0.5555555555555556,
              "#d8576b"
             ],
             [
              0.6666666666666666,
              "#ed7953"
             ],
             [
              0.7777777777777778,
              "#fb9f3a"
             ],
             [
              0.8888888888888888,
              "#fdca26"
             ],
             [
              1,
              "#f0f921"
             ]
            ],
            "type": "histogram2d"
           }
          ],
          "histogram2dcontour": [
           {
            "colorbar": {
             "outlinewidth": 0,
             "ticks": ""
            },
            "colorscale": [
             [
              0,
              "#0d0887"
             ],
             [
              0.1111111111111111,
              "#46039f"
             ],
             [
              0.2222222222222222,
              "#7201a8"
             ],
             [
              0.3333333333333333,
              "#9c179e"
             ],
             [
              0.4444444444444444,
              "#bd3786"
             ],
             [
              0.5555555555555556,
              "#d8576b"
             ],
             [
              0.6666666666666666,
              "#ed7953"
             ],
             [
              0.7777777777777778,
              "#fb9f3a"
             ],
             [
              0.8888888888888888,
              "#fdca26"
             ],
             [
              1,
              "#f0f921"
             ]
            ],
            "type": "histogram2dcontour"
           }
          ],
          "mesh3d": [
           {
            "colorbar": {
             "outlinewidth": 0,
             "ticks": ""
            },
            "type": "mesh3d"
           }
          ],
          "parcoords": [
           {
            "line": {
             "colorbar": {
              "outlinewidth": 0,
              "ticks": ""
             }
            },
            "type": "parcoords"
           }
          ],
          "pie": [
           {
            "automargin": true,
            "type": "pie"
           }
          ],
          "scatter": [
           {
            "fillpattern": {
             "fillmode": "overlay",
             "size": 10,
             "solidity": 0.2
            },
            "type": "scatter"
           }
          ],
          "scatter3d": [
           {
            "line": {
             "colorbar": {
              "outlinewidth": 0,
              "ticks": ""
             }
            },
            "marker": {
             "colorbar": {
              "outlinewidth": 0,
              "ticks": ""
             }
            },
            "type": "scatter3d"
           }
          ],
          "scattercarpet": [
           {
            "marker": {
             "colorbar": {
              "outlinewidth": 0,
              "ticks": ""
             }
            },
            "type": "scattercarpet"
           }
          ],
          "scattergeo": [
           {
            "marker": {
             "colorbar": {
              "outlinewidth": 0,
              "ticks": ""
             }
            },
            "type": "scattergeo"
           }
          ],
          "scattergl": [
           {
            "marker": {
             "colorbar": {
              "outlinewidth": 0,
              "ticks": ""
             }
            },
            "type": "scattergl"
           }
          ],
          "scattermap": [
           {
            "marker": {
             "colorbar": {
              "outlinewidth": 0,
              "ticks": ""
             }
            },
            "type": "scattermap"
           }
          ],
          "scattermapbox": [
           {
            "marker": {
             "colorbar": {
              "outlinewidth": 0,
              "ticks": ""
             }
            },
            "type": "scattermapbox"
           }
          ],
          "scatterpolar": [
           {
            "marker": {
             "colorbar": {
              "outlinewidth": 0,
              "ticks": ""
             }
            },
            "type": "scatterpolar"
           }
          ],
          "scatterpolargl": [
           {
            "marker": {
             "colorbar": {
              "outlinewidth": 0,
              "ticks": ""
             }
            },
            "type": "scatterpolargl"
           }
          ],
          "scatterternary": [
           {
            "marker": {
             "colorbar": {
              "outlinewidth": 0,
              "ticks": ""
             }
            },
            "type": "scatterternary"
           }
          ],
          "surface": [
           {
            "colorbar": {
             "outlinewidth": 0,
             "ticks": ""
            },
            "colorscale": [
             [
              0,
              "#0d0887"
             ],
             [
              0.1111111111111111,
              "#46039f"
             ],
             [
              0.2222222222222222,
              "#7201a8"
             ],
             [
              0.3333333333333333,
              "#9c179e"
             ],
             [
              0.4444444444444444,
              "#bd3786"
             ],
             [
              0.5555555555555556,
              "#d8576b"
             ],
             [
              0.6666666666666666,
              "#ed7953"
             ],
             [
              0.7777777777777778,
              "#fb9f3a"
             ],
             [
              0.8888888888888888,
              "#fdca26"
             ],
             [
              1,
              "#f0f921"
             ]
            ],
            "type": "surface"
           }
          ],
          "table": [
           {
            "cells": {
             "fill": {
              "color": "#EBF0F8"
             },
             "line": {
              "color": "white"
             }
            },
            "header": {
             "fill": {
              "color": "#C8D4E3"
             },
             "line": {
              "color": "white"
             }
            },
            "type": "table"
           }
          ]
         },
         "layout": {
          "annotationdefaults": {
           "arrowcolor": "#2a3f5f",
           "arrowhead": 0,
           "arrowwidth": 1
          },
          "autotypenumbers": "strict",
          "coloraxis": {
           "colorbar": {
            "outlinewidth": 0,
            "ticks": ""
           }
          },
          "colorscale": {
           "diverging": [
            [
             0,
             "#8e0152"
            ],
            [
             0.1,
             "#c51b7d"
            ],
            [
             0.2,
             "#de77ae"
            ],
            [
             0.3,
             "#f1b6da"
            ],
            [
             0.4,
             "#fde0ef"
            ],
            [
             0.5,
             "#f7f7f7"
            ],
            [
             0.6,
             "#e6f5d0"
            ],
            [
             0.7,
             "#b8e186"
            ],
            [
             0.8,
             "#7fbc41"
            ],
            [
             0.9,
             "#4d9221"
            ],
            [
             1,
             "#276419"
            ]
           ],
           "sequential": [
            [
             0,
             "#0d0887"
            ],
            [
             0.1111111111111111,
             "#46039f"
            ],
            [
             0.2222222222222222,
             "#7201a8"
            ],
            [
             0.3333333333333333,
             "#9c179e"
            ],
            [
             0.4444444444444444,
             "#bd3786"
            ],
            [
             0.5555555555555556,
             "#d8576b"
            ],
            [
             0.6666666666666666,
             "#ed7953"
            ],
            [
             0.7777777777777778,
             "#fb9f3a"
            ],
            [
             0.8888888888888888,
             "#fdca26"
            ],
            [
             1,
             "#f0f921"
            ]
           ],
           "sequentialminus": [
            [
             0,
             "#0d0887"
            ],
            [
             0.1111111111111111,
             "#46039f"
            ],
            [
             0.2222222222222222,
             "#7201a8"
            ],
            [
             0.3333333333333333,
             "#9c179e"
            ],
            [
             0.4444444444444444,
             "#bd3786"
            ],
            [
             0.5555555555555556,
             "#d8576b"
            ],
            [
             0.6666666666666666,
             "#ed7953"
            ],
            [
             0.7777777777777778,
             "#fb9f3a"
            ],
            [
             0.8888888888888888,
             "#fdca26"
            ],
            [
             1,
             "#f0f921"
            ]
           ]
          },
          "colorway": [
           "#636efa",
           "#EF553B",
           "#00cc96",
           "#ab63fa",
           "#FFA15A",
           "#19d3f3",
           "#FF6692",
           "#B6E880",
           "#FF97FF",
           "#FECB52"
          ],
          "font": {
           "color": "#2a3f5f"
          },
          "geo": {
           "bgcolor": "white",
           "lakecolor": "white",
           "landcolor": "#E5ECF6",
           "showlakes": true,
           "showland": true,
           "subunitcolor": "white"
          },
          "hoverlabel": {
           "align": "left"
          },
          "hovermode": "closest",
          "mapbox": {
           "style": "light"
          },
          "paper_bgcolor": "white",
          "plot_bgcolor": "#E5ECF6",
          "polar": {
           "angularaxis": {
            "gridcolor": "white",
            "linecolor": "white",
            "ticks": ""
           },
           "bgcolor": "#E5ECF6",
           "radialaxis": {
            "gridcolor": "white",
            "linecolor": "white",
            "ticks": ""
           }
          },
          "scene": {
           "xaxis": {
            "backgroundcolor": "#E5ECF6",
            "gridcolor": "white",
            "gridwidth": 2,
            "linecolor": "white",
            "showbackground": true,
            "ticks": "",
            "zerolinecolor": "white"
           },
           "yaxis": {
            "backgroundcolor": "#E5ECF6",
            "gridcolor": "white",
            "gridwidth": 2,
            "linecolor": "white",
            "showbackground": true,
            "ticks": "",
            "zerolinecolor": "white"
           },
           "zaxis": {
            "backgroundcolor": "#E5ECF6",
            "gridcolor": "white",
            "gridwidth": 2,
            "linecolor": "white",
            "showbackground": true,
            "ticks": "",
            "zerolinecolor": "white"
           }
          },
          "shapedefaults": {
           "line": {
            "color": "#2a3f5f"
           }
          },
          "ternary": {
           "aaxis": {
            "gridcolor": "white",
            "linecolor": "white",
            "ticks": ""
           },
           "baxis": {
            "gridcolor": "white",
            "linecolor": "white",
            "ticks": ""
           },
           "bgcolor": "#E5ECF6",
           "caxis": {
            "gridcolor": "white",
            "linecolor": "white",
            "ticks": ""
           }
          },
          "title": {
           "x": 0.05
          },
          "xaxis": {
           "automargin": true,
           "gridcolor": "white",
           "linecolor": "white",
           "ticks": "",
           "title": {
            "standoff": 15
           },
           "zerolinecolor": "white",
           "zerolinewidth": 2
          },
          "yaxis": {
           "automargin": true,
           "gridcolor": "white",
           "linecolor": "white",
           "ticks": "",
           "title": {
            "standoff": 15
           },
           "zerolinecolor": "white",
           "zerolinewidth": 2
          }
         }
        },
        "title": {
         "font": {
          "size": 16
         },
         "text": "Revenue by State (2023 vs 2022)"
        }
       }
      }
     },
     "metadata": {},
     "output_type": "display_data"
    }
   ],
   "source": [
    "# Create enhanced geographic heatmap visualization\n",
    "print(\"Creating geographic revenue heatmap...\")\n",
    "geographic_heatmap = metrics_calculator.create_geographic_heatmap(\n",
    "    geographic_metrics['geographic_summary'], \n",
    "    chart_suffix\n",
    ")\n",
    "geographic_heatmap.show()"
   ]
  },
  {
   "cell_type": "markdown",
   "metadata": {},
   "source": [
    "### 5.4 Customer Experience Analysis {#customer-experience}\n",
    "\n",
    "#### Delivery Performance and Customer Satisfaction"
   ]
  },
  {
   "cell_type": "code",
   "execution_count": 12,
   "metadata": {},
   "outputs": [
    {
     "name": "stdout",
     "output_type": "stream",
     "text": [
      "CUSTOMER EXPERIENCE ANALYSIS\n",
      "===================================\n",
      "\n",
      "OVERALL SATISFACTION METRICS:\n",
      "Average Customer Rating: 4.10/5.0\n",
      "Average Delivery Time: 8.0 days\n",
      "Total Orders Analyzed: 4,635\n",
      "\n",
      "REVIEW SCORE DISTRIBUTION:\n",
      "-------------------------\n",
      "1.0 stars ★☆☆☆☆:   3.5%\n",
      "2.0 stars ★★☆☆☆:   6.9%\n",
      "3.0 stars ★★★☆☆:  15.4%\n",
      "4.0 stars ★★★★☆:  24.3%\n",
      "5.0 stars ★★★★★:  49.9%\n",
      "\n",
      "SATISFACTION BY DELIVERY SPEED:\n",
      "--------------------------------\n",
      "1-3 days  : 4.19/5.0\n",
      "4-7 days  : 4.08/5.0\n",
      "8+ days   : 4.11/5.0\n",
      "\n",
      "DELIVERY SPEED DISTRIBUTION:\n",
      "----------------------------\n",
      "8+ days   :  55.6% of orders\n",
      "4-7 days  :  37.3% of orders\n",
      "1-3 days  :   7.2% of orders\n",
      "\n",
      "CUSTOMER EXPERIENCE INSIGHTS:\n",
      "• 4.10/5.0 average satisfaction indicates strong customer happiness\n",
      "• 7.2% of orders delivered within 3 days (fast delivery)\n",
      "• 55.6% of orders take 8+ days (improvement opportunity)\n",
      "• Average delivery time of 8.0 days exceeds standard expectations\n"
     ]
    }
   ],
   "source": [
    "# Customer experience analysis using enhanced data loader methods\n",
    "review_sales = data_loader.get_sales_with_reviews(year=ANALYSIS_YEAR, month=ANALYSIS_MONTH)\n",
    "\n",
    "# Create order-level data for experience analysis (remove item-level duplicates)\n",
    "order_level_data = review_sales[['order_id', 'delivery_days', 'review_score']].drop_duplicates()\n",
    "\n",
    "experience_metrics = metrics_calculator.analyze_customer_experience(order_level_data)\n",
    "\n",
    "print(\"CUSTOMER EXPERIENCE ANALYSIS\")\n",
    "print(\"=\" * 35)\n",
    "\n",
    "print(f\"\\nOVERALL SATISFACTION METRICS:\")\n",
    "print(f\"Average Customer Rating: {experience_metrics['avg_rating']:.2f}/5.0\")\n",
    "print(f\"Average Delivery Time: {experience_metrics['avg_delivery_days']:.1f} days\")\n",
    "print(f\"Total Orders Analyzed: {len(order_level_data):,}\")\n",
    "\n",
    "print(f\"\\nREVIEW SCORE DISTRIBUTION:\")\n",
    "print(\"-\" * 25)\n",
    "for score in sorted(experience_metrics['rating_distribution'].keys()):\n",
    "    percentage = experience_metrics['rating_distribution'][score] * 100\n",
    "    stars = \"★\" * int(score) + \"☆\" * (5 - int(score))\n",
    "    print(f\"{score} stars {stars}: {percentage:>5.1f}%\")\n",
    "\n",
    "print(f\"\\nSATISFACTION BY DELIVERY SPEED:\")\n",
    "print(\"-\" * 32)\n",
    "for delivery_speed in ['1-3 days', '4-7 days', '8+ days']:\n",
    "    if delivery_speed in experience_metrics['satisfaction_by_delivery_speed']:\n",
    "        rating = experience_metrics['satisfaction_by_delivery_speed'][delivery_speed]\n",
    "        print(f\"{delivery_speed:<10}: {rating:.2f}/5.0\")\n",
    "\n",
    "print(f\"\\nDELIVERY SPEED DISTRIBUTION:\")\n",
    "print(\"-\" * 28)\n",
    "for speed, percentage in experience_metrics['delivery_speed_distribution'].items():\n",
    "    print(f\"{speed:<10}: {percentage*100:>5.1f}% of orders\")\n",
    "\n",
    "# Customer experience insights\n",
    "fast_delivery_rate = experience_metrics['delivery_speed_distribution'].get('1-3 days', 0)\n",
    "slow_delivery_rate = experience_metrics['delivery_speed_distribution'].get('8+ days', 0)\n",
    "\n",
    "print(f\"\\nCUSTOMER EXPERIENCE INSIGHTS:\")\n",
    "print(f\"• {experience_metrics['avg_rating']:.2f}/5.0 average satisfaction indicates {'strong' if experience_metrics['avg_rating'] >= 4.0 else 'moderate'} customer happiness\")\n",
    "print(f\"• {fast_delivery_rate*100:.1f}% of orders delivered within 3 days (fast delivery)\")\n",
    "print(f\"• {slow_delivery_rate*100:.1f}% of orders take 8+ days (improvement opportunity)\")\n",
    "print(f\"• Average delivery time of {experience_metrics['avg_delivery_days']:.1f} days {'meets' if experience_metrics['avg_delivery_days'] <= 7 else 'exceeds'} standard expectations\")"
   ]
  },
  {
   "cell_type": "code",
   "execution_count": 13,
   "metadata": {},
   "outputs": [
    {
     "name": "stdout",
     "output_type": "stream",
     "text": [
      "Creating customer experience analysis charts...\n"
     ]
    },
    {
     "data": {
      "image/png": "[encoded data removed]",
      "text/plain": [
       "<Figure size 1500x600 with 2 Axes>"
      ]
     },
     "metadata": {},
     "output_type": "display_data"
    }
   ],
   "source": [
    "# Create enhanced customer satisfaction visualization\n",
    "print(\"Creating customer experience analysis charts...\")\n",
    "satisfaction_chart = metrics_calculator.create_customer_satisfaction_chart(experience_metrics, chart_suffix)\n",
    "plt.show()"
   ]
  },
  {
   "cell_type": "markdown",
   "metadata": {},
   "source": [
    "#### Order Fulfillment Metrics"
   ]
  },
  {
   "cell_type": "code",
   "execution_count": 14,
   "metadata": {},
   "outputs": [
    {
     "name": "stdout",
     "output_type": "stream",
     "text": [
      "OPERATIONAL PERFORMANCE ANALYSIS\n",
      "===================================\n",
      "\n",
      "ORDER FULFILLMENT METRICS:\n",
      "Fulfillment Rate:   93.6%\n",
      "Cancellation Rate:   1.3%\n",
      "Return Rate:        0.2%\n",
      "Pending/Processing:  1.7%\n",
      "\n",
      "DETAILED ORDER STATUS BREAKDOWN:\n",
      "-----------------------------------\n",
      "Delivered      :   93.6% (4,635 orders)\n",
      "Shipped        :    3.2% (  158 orders)\n",
      "Canceled       :    1.3% (   64 orders)\n",
      "Processing     :    1.2% (   59 orders)\n",
      "Pending        :    0.5% (   25 orders)\n",
      "Returned       :    0.2% (    9 orders)\n",
      "\n",
      "TOTAL ORDERS ANALYZED: 4,950\n",
      "\n",
      "OPERATIONAL INSIGHTS:\n",
      "• Excellent fulfillment rate of 93.6% indicates strong operational efficiency\n",
      "• Low cancellation rate of 1.3% shows good order management\n",
      "• Return rate of 0.2% is within normal range\n"
     ]
    }
   ],
   "source": [
    "# Order fulfillment analysis using comprehensive metrics\n",
    "# Get all orders for the analysis period (not just delivered)\n",
    "target_orders = data_loader.orders[data_loader.orders['year'] == ANALYSIS_YEAR]\n",
    "if ANALYSIS_MONTH:\n",
    "    target_orders = target_orders[target_orders['month'] == ANALYSIS_MONTH]\n",
    "\n",
    "fulfillment_metrics = metrics_calculator.calculate_order_fulfillment_metrics(target_orders)\n",
    "\n",
    "print(\"OPERATIONAL PERFORMANCE ANALYSIS\")\n",
    "print(\"=\" * 35)\n",
    "\n",
    "print(f\"\\nORDER FULFILLMENT METRICS:\")\n",
    "print(f\"Fulfillment Rate: {fulfillment_metrics['fulfillment_rate']*100:>6.1f}%\")\n",
    "print(f\"Cancellation Rate: {fulfillment_metrics['cancellation_rate']*100:>5.1f}%\")\n",
    "print(f\"Return Rate: {fulfillment_metrics['return_rate']*100:>10.1f}%\")\n",
    "print(f\"Pending/Processing: {fulfillment_metrics['pending_rate']*100:>4.1f}%\")\n",
    "\n",
    "print(f\"\\nDETAILED ORDER STATUS BREAKDOWN:\")\n",
    "print(\"-\" * 35)\n",
    "total_orders = len(target_orders)\n",
    "for status, percentage in fulfillment_metrics['status_distribution'].items():\n",
    "    if percentage > 0.001:  # Only show statuses with >0.1% share\n",
    "        status_name = status.replace('_', ' ').title()\n",
    "        order_count = int(percentage * total_orders)\n",
    "        print(f\"{status_name:<15}: {percentage*100:>6.1f}% ({order_count:>5,} orders)\")\n",
    "\n",
    "print(f\"\\nTOTAL ORDERS ANALYZED: {total_orders:,}\")\n",
    "\n",
    "# Operational insights\n",
    "print(f\"\\nOPERATIONAL INSIGHTS:\")\n",
    "if fulfillment_metrics['fulfillment_rate'] >= 0.90:\n",
    "    print(f\"• Excellent fulfillment rate of {fulfillment_metrics['fulfillment_rate']*100:.1f}% indicates strong operational efficiency\")\n",
    "elif fulfillment_metrics['fulfillment_rate'] >= 0.80:\n",
    "    print(f\"• Good fulfillment rate of {fulfillment_metrics['fulfillment_rate']*100:.1f}% with room for improvement\")\n",
    "else:\n",
    "    print(f\"• Fulfillment rate of {fulfillment_metrics['fulfillment_rate']*100:.1f}% requires immediate attention\")\n",
    "\n",
    "if fulfillment_metrics['cancellation_rate'] <= 0.05:\n",
    "    print(f\"• Low cancellation rate of {fulfillment_metrics['cancellation_rate']*100:.1f}% shows good order management\")\n",
    "else:\n",
    "    print(f\"• Cancellation rate of {fulfillment_metrics['cancellation_rate']*100:.1f}% may indicate inventory or pricing issues\")\n",
    "\n",
    "print(f\"• Return rate of {fulfillment_metrics['return_rate']*100:.1f}% {'is within normal range' if fulfillment_metrics['return_rate'] <= 0.10 else 'may need investigation'}\")"
   ]
  },
  {
   "cell_type": "markdown",
   "metadata": {},
   "source": [
    "## 6. Summary & Key Insights {#summary}\n",
    "\n",
    "### Executive Summary"
   ]
  },
  {
   "cell_type": "code",
   "execution_count": 15,
   "metadata": {},
   "outputs": [
    {
     "name": "stdout",
     "output_type": "stream",
     "text": [
      "\n",
      "============================================================\n",
      "BUSINESS PERFORMANCE SUMMARY (2023 vs 2022)\n",
      "============================================================\n",
      "\n",
      "KEY PERFORMANCE INDICATORS:\n",
      "  • Total Revenue: $3,360,294.74\n",
      "  • Total Orders: 4,635\n",
      "  • Average Order Value: $724.98\n",
      "  • Customer Satisfaction: 4.10/5.0\n",
      "  • Order Fulfillment Rate: 93.6%\n",
      "  • Average Delivery Time: 8.0 days\n",
      "\n",
      "GROWTH METRICS:\n",
      "  • Revenue Growth: -2.5%\n",
      "  • Order Growth: -2.4%\n",
      "  • AOV Growth: -0.1%\n",
      "\n",
      "TOP PERFORMERS:\n",
      "  • Leading Product Category: Electronics\n",
      "  • Top Revenue State: CA\n",
      "\n",
      "OPERATIONAL EFFICIENCY:\n",
      "  • Order Fulfillment: 93.6%\n",
      "  • Cancellation Rate: 1.3%\n",
      "  • Return Rate: 0.2%\n",
      "  • Fast Delivery (1-3 days): 7.2%\n",
      "\n",
      "============================================================\n",
      "\n",
      "\n",
      "EXECUTIVE DASHBOARD SUMMARY\n",
      "==============================\n",
      "Period Analyzed: 2023\n",
      "Revenue Performance: ↘ -2.5% vs 2022\n",
      "Order Volume: ↘ -2.4% vs 2022\n",
      "Customer Satisfaction: 4.10/5.0 (Good)\n",
      "Operational Excellence: 93.6% fulfillment rate\n",
      "Market Leader: Electronics category\n",
      "Top Geographic Market: CA\n",
      "Delivery Performance: 8.0 day average\n"
     ]
    }
   ],
   "source": [
    "# Generate comprehensive business summary using all calculated metrics\n",
    "business_summary = metrics_calculator.generate_business_summary(\n",
    "    revenue_metrics=revenue_metrics,\n",
    "    product_metrics=product_metrics, \n",
    "    geo_metrics=geographic_metrics,\n",
    "    experience_metrics=experience_metrics,\n",
    "    fulfillment_metrics=fulfillment_metrics\n",
    ")\n",
    "\n",
    "# Display formatted business insights\n",
    "metrics_calculator.print_business_insights(business_summary, chart_suffix)\n",
    "\n",
    "# Additional executive summary\n",
    "print(\"\\nEXECUTIVE DASHBOARD SUMMARY\")\n",
    "print(\"=\" * 30)\n",
    "print(f\"Period Analyzed: {period_label}\")\n",
    "print(f\"Revenue Performance: {'↗' if revenue_metrics['revenue_growth_rate'] > 0 else '↘'} {revenue_metrics['revenue_growth_rate']:+.1f}% vs {comparison_label}\")\n",
    "print(f\"Order Volume: {'↗' if revenue_metrics['order_growth_rate'] > 0 else '↘'} {revenue_metrics['order_growth_rate']:+.1f}% vs {comparison_label}\")\n",
    "print(f\"Customer Satisfaction: {experience_metrics['avg_rating']:.2f}/5.0 ({'Excellent' if experience_metrics['avg_rating'] >= 4.5 else 'Good' if experience_metrics['avg_rating'] >= 4.0 else 'Fair'})\")\n",
    "print(f\"Operational Excellence: {fulfillment_metrics['fulfillment_rate']*100:.1f}% fulfillment rate\")\n",
    "print(f\"Market Leader: {list(product_metrics['top_categories_by_revenue'].keys())[0].replace('_', ' ').title()} category\")\n",
    "print(f\"Top Geographic Market: {list(geographic_metrics['top_states_by_revenue'].keys())[0]}\")\n",
    "print(f\"Delivery Performance: {experience_metrics['avg_delivery_days']:.1f} day average\")"
   ]
  },
  {
   "cell_type": "markdown",
   "metadata": {},
   "source": [
    "### Key Insights and Recommendations\n",
    "\n",
    "Based on the analysis, here are the key findings:"
   ]
  },
  {
   "cell_type": "code",
   "execution_count": 16,
   "metadata": {},
   "outputs": [
    {
     "name": "stdout",
     "output_type": "stream",
     "text": [
      "STRATEGIC INSIGHTS AND RECOMMENDATIONS\n",
      "=============================================\n",
      "⚠ DECLINING REVENUE: Negative growth requires immediate strategic intervention\n",
      "  → Recommendation: Conduct deep-dive analysis on market conditions and competitive positioning\n",
      "\n",
      "✓ PRODUCT STRATEGY: Top 3 categories (Electronics, Home Garden, Sports Outdoors) drive major revenue\n",
      "  → Recommendation: Expand inventory depth in these categories and explore adjacent products\n",
      "\n",
      "✓ GEOGRAPHIC FOCUS: Top 5 states (CA, TX, FL, NY, IL) represent key markets\n",
      "  → Recommendation: Optimize logistics and marketing for these regions, explore expansion opportunities\n",
      "\n",
      "✓ CUSTOMER SATISFACTION: 4.10/5.0 rating indicates strong brand loyalty\n",
      "  → Recommendation: Leverage positive reviews for marketing, maintain service quality standards\n",
      "\n",
      "⚠ DELIVERY PERFORMANCE: 8.0 day average delivery may impact customer satisfaction\n",
      "  → Recommendation: Review and optimize supply chain and logistics operations\n",
      "\n",
      "~ OPERATIONAL PERFORMANCE: 93.6% fulfillment rate is good with improvement potential\n",
      "  → Recommendation: Analyze fulfillment bottlenecks and implement process improvements\n",
      "\n",
      "=============================================\n",
      "KEY ACTION ITEMS FOR NEXT QUARTER:\n",
      "1. Monitor key metrics weekly using this configurable framework\n",
      "2. Deep-dive analysis on underperforming areas identified above\n",
      "3. A/B test improvements in delivery speed and customer service\n",
      "4. Expand successful product categories and geographic markets\n",
      "5. Regular stakeholder reporting using this business intelligence dashboard\n",
      "\n",
      "To analyze different periods:\n",
      "• Change ANALYSIS_YEAR to 2024 for next year comparison\n",
      "• Set ANALYSIS_MONTH to specific month (1-12) for focused analysis\n",
      "• Update COMPARISON_YEAR for different baseline comparisons\n",
      "• Re-run entire notebook to generate updated insights\n"
     ]
    }
   ],
   "source": [
    "# Generate and display strategic insights based on the analysis\n",
    "print(\"STRATEGIC INSIGHTS AND RECOMMENDATIONS\")\n",
    "print(\"=\" * 45)\n",
    "\n",
    "# Revenue insights\n",
    "if revenue_metrics['revenue_growth_rate'] > 5:\n",
    "    print(\"✓ STRONG GROWTH: Revenue growth exceeds 5%, indicating healthy business expansion\")\n",
    "    print(\"  → Recommendation: Scale successful strategies and increase marketing investment\")\n",
    "elif revenue_metrics['revenue_growth_rate'] > 0:\n",
    "    print(\"~ MODERATE GROWTH: Positive revenue growth shows steady progress\")  \n",
    "    print(\"  → Recommendation: Identify growth accelerators and optimize underperforming areas\")\n",
    "else:\n",
    "    print(\"⚠ DECLINING REVENUE: Negative growth requires immediate strategic intervention\")\n",
    "    print(\"  → Recommendation: Conduct deep-dive analysis on market conditions and competitive positioning\")\n",
    "\n",
    "# Product portfolio insights\n",
    "top_3_categories = list(product_metrics['top_categories_by_revenue'].keys())[:3]\n",
    "print(f\"\\n✓ PRODUCT STRATEGY: Top 3 categories ({', '.join([c.replace('_', ' ').title() for c in top_3_categories])}) drive major revenue\")\n",
    "print(\"  → Recommendation: Expand inventory depth in these categories and explore adjacent products\")\n",
    "\n",
    "# Geographic insights\n",
    "top_5_states = list(geographic_metrics['top_states_by_revenue'].keys())[:5]\n",
    "print(f\"\\n✓ GEOGRAPHIC FOCUS: Top 5 states ({', '.join(top_5_states)}) represent key markets\")\n",
    "print(\"  → Recommendation: Optimize logistics and marketing for these regions, explore expansion opportunities\")\n",
    "\n",
    "# Customer experience insights\n",
    "if experience_metrics['avg_rating'] >= 4.0:\n",
    "    print(f\"\\n✓ CUSTOMER SATISFACTION: {experience_metrics['avg_rating']:.2f}/5.0 rating indicates strong brand loyalty\")\n",
    "    print(\"  → Recommendation: Leverage positive reviews for marketing, maintain service quality standards\")\n",
    "else:\n",
    "    print(f\"\\n⚠ CUSTOMER SATISFACTION: {experience_metrics['avg_rating']:.2f}/5.0 rating needs improvement\")\n",
    "    print(\"  → Recommendation: Investigate service issues, implement customer feedback programs\")\n",
    "\n",
    "# Delivery performance insights\n",
    "if experience_metrics['avg_delivery_days'] <= 5:\n",
    "    print(f\"\\n✓ DELIVERY EXCELLENCE: {experience_metrics['avg_delivery_days']:.1f} day average delivery exceeds customer expectations\")\n",
    "    print(\"  → Recommendation: Use fast delivery as competitive advantage in marketing\")\n",
    "elif experience_metrics['avg_delivery_days'] <= 7:\n",
    "    print(f\"\\n~ DELIVERY PERFORMANCE: {experience_metrics['avg_delivery_days']:.1f} day average delivery meets standard expectations\")\n",
    "    print(\"  → Recommendation: Explore opportunities to optimize logistics for competitive advantage\")\n",
    "else:\n",
    "    print(f\"\\n⚠ DELIVERY PERFORMANCE: {experience_metrics['avg_delivery_days']:.1f} day average delivery may impact customer satisfaction\")\n",
    "    print(\"  → Recommendation: Review and optimize supply chain and logistics operations\")\n",
    "\n",
    "# Operational efficiency insights\n",
    "if fulfillment_metrics['fulfillment_rate'] >= 0.95:\n",
    "    print(f\"\\n✓ OPERATIONAL EXCELLENCE: {fulfillment_metrics['fulfillment_rate']*100:.1f}% fulfillment rate demonstrates strong operations\")\n",
    "    print(\"  → Recommendation: Document best practices and explore capacity expansion opportunities\")\n",
    "elif fulfillment_metrics['fulfillment_rate'] >= 0.90:\n",
    "    print(f\"\\n~ OPERATIONAL PERFORMANCE: {fulfillment_metrics['fulfillment_rate']*100:.1f}% fulfillment rate is good with improvement potential\")\n",
    "    print(\"  → Recommendation: Analyze fulfillment bottlenecks and implement process improvements\")\n",
    "else:\n",
    "    print(f\"\\n⚠ OPERATIONAL CHALLENGES: {fulfillment_metrics['fulfillment_rate']*100:.1f}% fulfillment rate requires attention\")\n",
    "    print(\"  → Recommendation: Immediate review of inventory management and fulfillment processes\")\n",
    "\n",
    "print(f\"\\n\" + \"=\" * 45)\n",
    "print(\"KEY ACTION ITEMS FOR NEXT QUARTER:\")\n",
    "print(\"1. Monitor key metrics weekly using this configurable framework\")\n",
    "print(\"2. Deep-dive analysis on underperforming areas identified above\")\n",
    "print(\"3. A/B test improvements in delivery speed and customer service\")\n",
    "print(\"4. Expand successful product categories and geographic markets\") \n",
    "print(\"5. Regular stakeholder reporting using this business intelligence dashboard\")\n",
    "\n",
    "print(f\"\\nTo analyze different periods:\")\n",
    "print(f\"• Change ANALYSIS_YEAR to {ANALYSIS_YEAR + 1} for next year comparison\")\n",
    "print(f\"• Set ANALYSIS_MONTH to specific month (1-12) for focused analysis\")\n",
    "print(f\"• Update COMPARISON_YEAR for different baseline comparisons\")\n",
    "print(f\"• Re-run entire notebook to generate updated insights\")"
   ]
  },
  {
   "cell_type": "markdown",
   "metadata": {},
   "source": [
    "# Analysis completion and configuration summary\n",
    "print(\"ANALYSIS COMPLETION REPORT\")\n",
    "print(\"=\" * 35)\n",
    "print(f\"Analysis Framework: E-commerce Business Intelligence Dashboard\")\n",
    "print(f\"Analysis Completed: {datetime.now().strftime('%Y-%m-%d %H:%M:%S')}\")\n",
    "print(f\"Target Period: {period_label}\")\n",
    "print(f\"Comparison Period: {comparison_label}\")\n",
    "\n",
    "print(f\"\\nDATA PROCESSING SUMMARY:\")\n",
    "print(f\"• Total Order Items Analyzed: {len(sales_analysis):,}\")\n",
    "print(f\"• Unique Orders: {revenue_metrics['total_orders']:,}\")  \n",
    "print(f\"• Product Categories: {len(product_metrics['top_categories_by_revenue'])}\")\n",
    "print(f\"• Geographic Markets: {len(geographic_metrics['top_states_by_revenue'])}\")\n",
    "print(f\"• Customer Reviews: {len(order_level_data):,}\")\n",
    "\n",
    "print(f\"\\nFRAMEWORK CAPABILITIES:\")\n",
    "print(f\"• Configurable time periods (year/month)\")\n",
    "print(f\"• Automated business metrics calculation\")\n",
    "print(f\"• Enhanced data visualization\")\n",
    "print(f\"• Comprehensive business insights\")\n",
    "print(f\"• Modular architecture for extensibility\")\n",
    "\n",
    "print(f\"\\nNEXT STEPS:\")\n",
    "print(f\"• Save this notebook with timestamp: EDA_{period_label.replace(' ', '_')}_Analysis.ipynb\")\n",
    "print(f\"• Schedule regular analysis runs (monthly/quarterly)\")\n",
    "print(f\"• Share insights with stakeholders\")\n",
    "print(f\"• Implement recommended action items\")\n",
    "print(f\"• Monitor KPIs using this framework\")\n",
    "\n",
    "print(f\"\\nCONFIGURATION OPTIONS:\")\n",
    "print(f\"To analyze Q1 2023: Set ANALYSIS_MONTH=None, ANALYSIS_YEAR=2023, COMPARISON_YEAR=2022\")\n",
    "print(f\"To analyze December 2023: Set ANALYSIS_MONTH=12, ANALYSIS_YEAR=2023, COMPARISON_YEAR=2022\")\n",
    "print(f\"To compare H1 vs H2: Requires custom date filtering (feature enhancement)\")\n",
    "\n",
    "print(f\"\\n{'='*60}\")\n",
    "print(\"REFACTORED E-COMMERCE ANALYSIS FRAMEWORK - READY FOR USE\")\n",
    "print(f\"{'='*60}\")\n",
    "print(\"This analysis maintains all original insights while providing:\")\n",
    "print(\"✓ Configurable analysis periods\")\n",
    "print(\"✓ Modular and reusable code architecture\")  \n",
    "print(\"✓ Enhanced visualizations with proper formatting\")\n",
    "print(\"✓ Comprehensive business metrics and KPIs\")\n",
    "print(\"✓ Strategic insights and actionable recommendations\")\n",
    "print(\"✓ Professional documentation and structure\")\n",
    "print(\"✓ Extensible framework for future enhancements\")"
   ]
  }
 ],
 "metadata": {
  "kernelspec": {
   "display_name": ".venv",
   "language": "python",
   "name": "python3"
  },
  "language_info": {
   "codemirror_mode": {
    "name": "ipython",
    "version": 3
   },
   "file_extension": ".py",
   "mimetype": "text/x-python",
   "name": "python",
   "nbconvert_exporter": "python",
   "pygments_lexer": "ipython3",
   "version": "3.12.1"
  }
 },
 "nbformat": 4,
 "nbformat_minor": 4
}
